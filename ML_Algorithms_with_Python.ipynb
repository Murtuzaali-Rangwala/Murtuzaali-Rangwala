{
  "nbformat": 4,
  "nbformat_minor": 0,
  "metadata": {
    "colab": {
      "provenance": [],
      "authorship_tag": "ABX9TyNEYpyeK/YK3fK/2Z8G1CTb",
      "include_colab_link": true
    },
    "kernelspec": {
      "name": "python3",
      "display_name": "Python 3"
    },
    "language_info": {
      "name": "python"
    }
  },
  "cells": [
    {
      "cell_type": "markdown",
      "metadata": {
        "id": "view-in-github",
        "colab_type": "text"
      },
      "source": [
        "<a href=\"https://colab.research.google.com/github/Murtuzaali-Rangwala/Murtuzaali-Rangwala/blob/main/ML_Algorithms_with_Python.ipynb\" target=\"_parent\"><img src=\"https://colab.research.google.com/assets/colab-badge.svg\" alt=\"Open In Colab\"/></a>"
      ]
    },
    {
      "cell_type": "markdown",
      "source": 
      "metadata": {
        "id": "Zeezd8nFpNMU"
      }
    },
    {
      "cell_type": "code",
      "execution_count": 86,
      "metadata": {
        "id": "0CaFH0wFpLZ5"
      },
      "outputs": [],
      "source": [
        "# Importing Libraries\n",
        "import pandas as pd\n",
        "from sklearn.linear_model import LinearRegression\n",
        "import matplotlib.pyplot as plt\n",
        "from sklearn.model_selection import train_test_split\n",
        "import numpy as np\n",
        "from sklearn.model_selection import train_test_split\n",
        "from sklearn.preprocessing import StandardScaler, LabelEncoder\n",
        "from sklearn.neighbors import KNeighborsRegressor\n",
        "from sklearn.metrics import mean_squared_error\n",
        "from sklearn.compose import ColumnTransformer\n",
        "from sklearn.preprocessing import StandardScaler, OneHotEncoder\n",
        "\n"
      ]
    },
    {
      "cell_type": "code",
      "source": [
        "df = pd.read_csv(\"/content/ML Algorithms with Python Assignment (Data).csv\")\n",
        "df.head()"
      ],
      "metadata": {
        "colab": {
          "base_uri": "https://localhost:8080/",
          "height": 206
        },
        "id": "c5mS615Qza_u",
        "outputId": "ad8fa69a-6ef2-492a-b748-57276d73d1ae"
      },
      "execution_count": 2,
      "outputs": [
        {
          "output_type": "execute_result",
          "data": {
            "text/plain": [
              "   age     sex     bmi  children smoker     region      charges\n",
              "0   19  female  27.900         0    yes  southwest  16884.92400\n",
              "1   18    male  33.770         1     no  southeast   1725.55230\n",
              "2   28    male  33.000         3     no  southeast   4449.46200\n",
              "3   33    male  22.705         0     no  northwest  21984.47061\n",
              "4   32    male  28.880         0     no  northwest   3866.85520"
            ],
            "text/html": [
              "\n",
              "  <div id=\"df-034ab102-7882-49c8-b122-e5e624e99db3\" class=\"colab-df-container\">\n",
              "    <div>\n",
              "<style scoped>\n",
              "    .dataframe tbody tr th:only-of-type {\n",
              "        vertical-align: middle;\n",
              "    }\n",
              "\n",
              "    .dataframe tbody tr th {\n",
              "        vertical-align: top;\n",
              "    }\n",
              "\n",
              "    .dataframe thead th {\n",
              "        text-align: right;\n",
              "    }\n",
              "</style>\n",
              "<table border=\"1\" class=\"dataframe\">\n",
              "  <thead>\n",
              "    <tr style=\"text-align: right;\">\n",
              "      <th></th>\n",
              "      <th>age</th>\n",
              "      <th>sex</th>\n",
              "      <th>bmi</th>\n",
              "      <th>children</th>\n",
              "      <th>smoker</th>\n",
              "      <th>region</th>\n",
              "      <th>charges</th>\n",
              "    </tr>\n",
              "  </thead>\n",
              "  <tbody>\n",
              "    <tr>\n",
              "      <th>0</th>\n",
              "      <td>19</td>\n",
              "      <td>female</td>\n",
              "      <td>27.900</td>\n",
              "      <td>0</td>\n",
              "      <td>yes</td>\n",
              "      <td>southwest</td>\n",
              "      <td>16884.92400</td>\n",
              "    </tr>\n",
              "    <tr>\n",
              "      <th>1</th>\n",
              "      <td>18</td>\n",
              "      <td>male</td>\n",
              "      <td>33.770</td>\n",
              "      <td>1</td>\n",
              "      <td>no</td>\n",
              "      <td>southeast</td>\n",
              "      <td>1725.55230</td>\n",
              "    </tr>\n",
              "    <tr>\n",
              "      <th>2</th>\n",
              "      <td>28</td>\n",
              "      <td>male</td>\n",
              "      <td>33.000</td>\n",
              "      <td>3</td>\n",
              "      <td>no</td>\n",
              "      <td>southeast</td>\n",
              "      <td>4449.46200</td>\n",
              "    </tr>\n",
              "    <tr>\n",
              "      <th>3</th>\n",
              "      <td>33</td>\n",
              "      <td>male</td>\n",
              "      <td>22.705</td>\n",
              "      <td>0</td>\n",
              "      <td>no</td>\n",
              "      <td>northwest</td>\n",
              "      <td>21984.47061</td>\n",
              "    </tr>\n",
              "    <tr>\n",
              "      <th>4</th>\n",
              "      <td>32</td>\n",
              "      <td>male</td>\n",
              "      <td>28.880</td>\n",
              "      <td>0</td>\n",
              "      <td>no</td>\n",
              "      <td>northwest</td>\n",
              "      <td>3866.85520</td>\n",
              "    </tr>\n",
              "  </tbody>\n",
              "</table>\n",
              "</div>\n",
              "    <div class=\"colab-df-buttons\">\n",
              "\n",
              "  <div class=\"colab-df-container\">\n",
              "    <button class=\"colab-df-convert\" onclick=\"convertToInteractive('df-034ab102-7882-49c8-b122-e5e624e99db3')\"\n",
              "            title=\"Convert this dataframe to an interactive table.\"\n",
              "            style=\"display:none;\">\n",
              "\n",
              "  <svg xmlns=\"http://www.w3.org/2000/svg\" height=\"24px\" viewBox=\"0 -960 960 960\">\n",
              "    <path d=\"M120-120v-720h720v720H120Zm60-500h600v-160H180v160Zm220 220h160v-160H400v160Zm0 220h160v-160H400v160ZM180-400h160v-160H180v160Zm440 0h160v-160H620v160ZM180-180h160v-160H180v160Zm440 0h160v-160H620v160Z\"/>\n",
              "  </svg>\n",
              "    </button>\n",
              "\n",
              "  <style>\n",
              "    .colab-df-container {\n",
              "      display:flex;\n",
              "      gap: 12px;\n",
              "    }\n",
              "\n",
              "    .colab-df-convert {\n",
              "      background-color: #E8F0FE;\n",
              "      border: none;\n",
              "      border-radius: 50%;\n",
              "      cursor: pointer;\n",
              "      display: none;\n",
              "      fill: #1967D2;\n",
              "      height: 32px;\n",
              "      padding: 0 0 0 0;\n",
              "      width: 32px;\n",
              "    }\n",
              "\n",
              "    .colab-df-convert:hover {\n",
              "      background-color: #E2EBFA;\n",
              "      box-shadow: 0px 1px 2px rgba(60, 64, 67, 0.3), 0px 1px 3px 1px rgba(60, 64, 67, 0.15);\n",
              "      fill: #174EA6;\n",
              "    }\n",
              "\n",
              "    .colab-df-buttons div {\n",
              "      margin-bottom: 4px;\n",
              "    }\n",
              "\n",
              "    [theme=dark] .colab-df-convert {\n",
              "      background-color: #3B4455;\n",
              "      fill: #D2E3FC;\n",
              "    }\n",
              "\n",
              "    [theme=dark] .colab-df-convert:hover {\n",
              "      background-color: #434B5C;\n",
              "      box-shadow: 0px 1px 3px 1px rgba(0, 0, 0, 0.15);\n",
              "      filter: drop-shadow(0px 1px 2px rgba(0, 0, 0, 0.3));\n",
              "      fill: #FFFFFF;\n",
              "    }\n",
              "  </style>\n",
              "\n",
              "    <script>\n",
              "      const buttonEl =\n",
              "        document.querySelector('#df-034ab102-7882-49c8-b122-e5e624e99db3 button.colab-df-convert');\n",
              "      buttonEl.style.display =\n",
              "        google.colab.kernel.accessAllowed ? 'block' : 'none';\n",
              "\n",
              "      async function convertToInteractive(key) {\n",
              "        const element = document.querySelector('#df-034ab102-7882-49c8-b122-e5e624e99db3');\n",
              "        const dataTable =\n",
              "          await google.colab.kernel.invokeFunction('convertToInteractive',\n",
              "                                                    [key], {});\n",
              "        if (!dataTable) return;\n",
              "\n",
              "        const docLinkHtml = 'Like what you see? Visit the ' +\n",
              "          '<a target=\"_blank\" href=https://colab.research.google.com/notebooks/data_table.ipynb>data table notebook</a>'\n",
              "          + ' to learn more about interactive tables.';\n",
              "        element.innerHTML = '';\n",
              "        dataTable['output_type'] = 'display_data';\n",
              "        await google.colab.output.renderOutput(dataTable, element);\n",
              "        const docLink = document.createElement('div');\n",
              "        docLink.innerHTML = docLinkHtml;\n",
              "        element.appendChild(docLink);\n",
              "      }\n",
              "    </script>\n",
              "  </div>\n",
              "\n",
              "\n",
              "<div id=\"df-55189e56-1395-4bd8-a2a2-f6336627030b\">\n",
              "  <button class=\"colab-df-quickchart\" onclick=\"quickchart('df-55189e56-1395-4bd8-a2a2-f6336627030b')\"\n",
              "            title=\"Suggest charts\"\n",
              "            style=\"display:none;\">\n",
              "\n",
              "<svg xmlns=\"http://www.w3.org/2000/svg\" height=\"24px\"viewBox=\"0 0 24 24\"\n",
              "     width=\"24px\">\n",
              "    <g>\n",
              "        <path d=\"M19 3H5c-1.1 0-2 .9-2 2v14c0 1.1.9 2 2 2h14c1.1 0 2-.9 2-2V5c0-1.1-.9-2-2-2zM9 17H7v-7h2v7zm4 0h-2V7h2v10zm4 0h-2v-4h2v4z\"/>\n",
              "    </g>\n",
              "</svg>\n",
              "  </button>\n",
              "\n",
              "<style>\n",
              "  .colab-df-quickchart {\n",
              "      --bg-color: #E8F0FE;\n",
              "      --fill-color: #1967D2;\n",
              "      --hover-bg-color: #E2EBFA;\n",
              "      --hover-fill-color: #174EA6;\n",
              "      --disabled-fill-color: #AAA;\n",
              "      --disabled-bg-color: #DDD;\n",
              "  }\n",
              "\n",
              "  [theme=dark] .colab-df-quickchart {\n",
              "      --bg-color: #3B4455;\n",
              "      --fill-color: #D2E3FC;\n",
              "      --hover-bg-color: #434B5C;\n",
              "      --hover-fill-color: #FFFFFF;\n",
              "      --disabled-bg-color: #3B4455;\n",
              "      --disabled-fill-color: #666;\n",
              "  }\n",
              "\n",
              "  .colab-df-quickchart {\n",
              "    background-color: var(--bg-color);\n",
              "    border: none;\n",
              "    border-radius: 50%;\n",
              "    cursor: pointer;\n",
              "    display: none;\n",
              "    fill: var(--fill-color);\n",
              "    height: 32px;\n",
              "    padding: 0;\n",
              "    width: 32px;\n",
              "  }\n",
              "\n",
              "  .colab-df-quickchart:hover {\n",
              "    background-color: var(--hover-bg-color);\n",
              "    box-shadow: 0 1px 2px rgba(60, 64, 67, 0.3), 0 1px 3px 1px rgba(60, 64, 67, 0.15);\n",
              "    fill: var(--button-hover-fill-color);\n",
              "  }\n",
              "\n",
              "  .colab-df-quickchart-complete:disabled,\n",
              "  .colab-df-quickchart-complete:disabled:hover {\n",
              "    background-color: var(--disabled-bg-color);\n",
              "    fill: var(--disabled-fill-color);\n",
              "    box-shadow: none;\n",
              "  }\n",
              "\n",
              "  .colab-df-spinner {\n",
              "    border: 2px solid var(--fill-color);\n",
              "    border-color: transparent;\n",
              "    border-bottom-color: var(--fill-color);\n",
              "    animation:\n",
              "      spin 1s steps(1) infinite;\n",
              "  }\n",
              "\n",
              "  @keyframes spin {\n",
              "    0% {\n",
              "      border-color: transparent;\n",
              "      border-bottom-color: var(--fill-color);\n",
              "      border-left-color: var(--fill-color);\n",
              "    }\n",
              "    20% {\n",
              "      border-color: transparent;\n",
              "      border-left-color: var(--fill-color);\n",
              "      border-top-color: var(--fill-color);\n",
              "    }\n",
              "    30% {\n",
              "      border-color: transparent;\n",
              "      border-left-color: var(--fill-color);\n",
              "      border-top-color: var(--fill-color);\n",
              "      border-right-color: var(--fill-color);\n",
              "    }\n",
              "    40% {\n",
              "      border-color: transparent;\n",
              "      border-right-color: var(--fill-color);\n",
              "      border-top-color: var(--fill-color);\n",
              "    }\n",
              "    60% {\n",
              "      border-color: transparent;\n",
              "      border-right-color: var(--fill-color);\n",
              "    }\n",
              "    80% {\n",
              "      border-color: transparent;\n",
              "      border-right-color: var(--fill-color);\n",
              "      border-bottom-color: var(--fill-color);\n",
              "    }\n",
              "    90% {\n",
              "      border-color: transparent;\n",
              "      border-bottom-color: var(--fill-color);\n",
              "    }\n",
              "  }\n",
              "</style>\n",
              "\n",
              "  <script>\n",
              "    async function quickchart(key) {\n",
              "      const quickchartButtonEl =\n",
              "        document.querySelector('#' + key + ' button');\n",
              "      quickchartButtonEl.disabled = true;  // To prevent multiple clicks.\n",
              "      quickchartButtonEl.classList.add('colab-df-spinner');\n",
              "      try {\n",
              "        const charts = await google.colab.kernel.invokeFunction(\n",
              "            'suggestCharts', [key], {});\n",
              "      } catch (error) {\n",
              "        console.error('Error during call to suggestCharts:', error);\n",
              "      }\n",
              "      quickchartButtonEl.classList.remove('colab-df-spinner');\n",
              "      quickchartButtonEl.classList.add('colab-df-quickchart-complete');\n",
              "    }\n",
              "    (() => {\n",
              "      let quickchartButtonEl =\n",
              "        document.querySelector('#df-55189e56-1395-4bd8-a2a2-f6336627030b button');\n",
              "      quickchartButtonEl.style.display =\n",
              "        google.colab.kernel.accessAllowed ? 'block' : 'none';\n",
              "    })();\n",
              "  </script>\n",
              "</div>\n",
              "\n",
              "    </div>\n",
              "  </div>\n"
            ],
            "application/vnd.google.colaboratory.intrinsic+json": {
              "type": "dataframe",
              "variable_name": "df",
              "summary": "{\n  \"name\": \"df\",\n  \"rows\": 1338,\n  \"fields\": [\n    {\n      \"column\": \"age\",\n      \"properties\": {\n        \"dtype\": \"number\",\n        \"std\": 14,\n        \"min\": 18,\n        \"max\": 64,\n        \"num_unique_values\": 47,\n        \"samples\": [\n          21,\n          45,\n          36\n        ],\n        \"semantic_type\": \"\",\n        \"description\": \"\"\n      }\n    },\n    {\n      \"column\": \"sex\",\n      \"properties\": {\n        \"dtype\": \"category\",\n        \"num_unique_values\": 2,\n        \"samples\": [\n          \"male\",\n          \"female\"\n        ],\n        \"semantic_type\": \"\",\n        \"description\": \"\"\n      }\n    },\n    {\n      \"column\": \"bmi\",\n      \"properties\": {\n        \"dtype\": \"number\",\n        \"std\": 6.098186911679017,\n        \"min\": 15.96,\n        \"max\": 53.13,\n        \"num_unique_values\": 548,\n        \"samples\": [\n          23.18,\n          26.885\n        ],\n        \"semantic_type\": \"\",\n        \"description\": \"\"\n      }\n    },\n    {\n      \"column\": \"children\",\n      \"properties\": {\n        \"dtype\": \"number\",\n        \"std\": 1,\n        \"min\": 0,\n        \"max\": 5,\n        \"num_unique_values\": 6,\n        \"samples\": [\n          0,\n          1\n        ],\n        \"semantic_type\": \"\",\n        \"description\": \"\"\n      }\n    },\n    {\n      \"column\": \"smoker\",\n      \"properties\": {\n        \"dtype\": \"category\",\n        \"num_unique_values\": 2,\n        \"samples\": [\n          \"no\",\n          \"yes\"\n        ],\n        \"semantic_type\": \"\",\n        \"description\": \"\"\n      }\n    },\n    {\n      \"column\": \"region\",\n      \"properties\": {\n        \"dtype\": \"category\",\n        \"num_unique_values\": 4,\n        \"samples\": [\n          \"southeast\",\n          \"northeast\"\n        ],\n        \"semantic_type\": \"\",\n        \"description\": \"\"\n      }\n    },\n    {\n      \"column\": \"charges\",\n      \"properties\": {\n        \"dtype\": \"number\",\n        \"std\": 12110.011236693994,\n        \"min\": 1121.8739,\n        \"max\": 63770.42801,\n        \"num_unique_values\": 1337,\n        \"samples\": [\n          8688.85885,\n          5708.867\n        ],\n        \"semantic_type\": \"\",\n        \"description\": \"\"\n      }\n    }\n  ]\n}"
            }
          },
          "metadata": {},
          "execution_count": 2
        }
      ]
    },
    {
      "cell_type": "markdown",
      "source": [
        "Missing Values"
      ],
      "metadata": {
        "id": "Jvp0j5S37MdV"
      }
    },
    {
      "cell_type": "code",
      "source": [
        "age_missing_count = df['age'].isnull().sum()\n",
        "print(age_missing_count)\n",
        "sex_missing_count = df['sex'].isnull().sum()\n",
        "print(sex_missing_count)\n",
        "bmi_missing_count = df['bmi'].isnull().sum()\n",
        "print(bmi_missing_count)\n",
        "children_missing_count = df['children'].isnull().sum()\n",
        "print(children_missing_count)\n",
        "smoker_missing_count = df['smoker'].isnull().sum()\n",
        "print(smoker_missing_count)\n",
        "region_missing_count = df['region'].isnull().sum()\n",
        "print(region_missing_count)\n",
        "charges_missing_count = df['charges'].isnull().sum()\n",
        "print(charges_missing_count)"
      ],
      "metadata": {
        "colab": {
          "base_uri": "https://localhost:8080/"
        },
        "id": "H0hyf46j7O90",
        "outputId": "c7d1e7e1-5ce6-4721-9b23-de5e5916f5bd"
      },
      "execution_count": 15,
      "outputs": [
        {
          "output_type": "stream",
          "name": "stdout",
          "text": [
            "0\n",
            "0\n",
            "0\n",
            "0\n",
            "0\n",
            "0\n",
            "0\n"
          ]
        }
      ]
    },
    {
      "cell_type": "markdown",
      "source": [
        "Description Analysis"
      ],
      "metadata": {
        "id": "SPQO4DqB8pxG"
      }
    },
    {
      "cell_type": "code",
      "source": [
        "age_avg= df['age'].mean()\n",
        "bmi_avg= df['bmi'].mean()\n",
        "children_avg= df['children'].mean()\n",
        "charges_avg= df['charges'].mean()\n",
        "print(age_avg)\n",
        "print(bmi_avg)\n",
        "print(children_avg)\n",
        "print(charges_avg)"
      ],
      "metadata": {
        "colab": {
          "base_uri": "https://localhost:8080/"
        },
        "id": "Eo7Me2Ot8kWf",
        "outputId": "50d5fa89-dad0-4d4f-843a-89b8d98ac394"
      },
      "execution_count": 16,
      "outputs": [
        {
          "output_type": "stream",
          "name": "stdout",
          "text": [
            "39.20702541106129\n",
            "30.66339686098655\n",
            "1.0949177877429\n",
            "13270.422265141257\n"
          ]
        }
      ]
    },
    {
      "cell_type": "code",
      "source": [
        "# Calculate mean insurance charges for male and female\n",
        "mean_charges_by_sex = df.groupby('sex')['charges'].mean()\n",
        "print(\"Mean Insurance Charges by Sex:\")\n",
        "print(mean_charges_by_sex)"
      ],
      "metadata": {
        "colab": {
          "base_uri": "https://localhost:8080/"
        },
        "id": "q-qFp87x84Xg",
        "outputId": "957ad51b-a668-4e1d-f4f5-08da8cf21a8a"
      },
      "execution_count": 17,
      "outputs": [
        {
          "output_type": "stream",
          "name": "stdout",
          "text": [
            "Mean Insurance Charges by Sex:\n",
            "sex\n",
            "female    12569.578844\n",
            "male      13956.751178\n",
            "Name: charges, dtype: float64\n"
          ]
        }
      ]
    },
    {
      "cell_type": "code",
      "source": [
        "# Calculate mean insurance charges for smoker and non-smoker\n",
        "mean_charges_by_smoker = df.groupby('smoker')['charges'].mean()\n",
        "print(\"Mean Insurance Charges by Smoker:\")\n",
        "print(mean_charges_by_smoker)"
      ],
      "metadata": {
        "colab": {
          "base_uri": "https://localhost:8080/"
        },
        "id": "9eeJQR-X9BAu",
        "outputId": "aa9b888f-daf2-4bae-9135-1ed05db7a4a9"
      },
      "execution_count": 19,
      "outputs": [
        {
          "output_type": "stream",
          "name": "stdout",
          "text": [
            "Mean Insurance Charges by Smoker:\n",
            "smoker\n",
            "no      8434.268298\n",
            "yes    32050.231832\n",
            "Name: charges, dtype: float64\n"
          ]
        }
      ]
    },
    {
      "cell_type": "code",
      "source": [
        "# Calculate mean insurance charges for children\n",
        "mean_charges_by_children = df.groupby('children')['charges'].mean()\n",
        "print(\"Mean Insurance Charges by children:\")\n",
        "print(mean_charges_by_children)"
      ],
      "metadata": {
        "colab": {
          "base_uri": "https://localhost:8080/"
        },
        "id": "L03_gIps9FY-",
        "outputId": "b703b5fb-bc5b-4427-a730-e5631b7d51a2"
      },
      "execution_count": 20,
      "outputs": [
        {
          "output_type": "stream",
          "name": "stdout",
          "text": [
            "Mean Insurance Charges by children:\n",
            "children\n",
            "0    12365.975602\n",
            "1    12731.171832\n",
            "2    15073.563734\n",
            "3    15355.318367\n",
            "4    13850.656311\n",
            "5     8786.035247\n",
            "Name: charges, dtype: float64\n"
          ]
        }
      ]
    },
    {
      "cell_type": "code",
      "source": [
        "# Calculate mean insurance charges for region\n",
        "mean_charges_by_region = df.groupby('region')['charges'].mean()\n",
        "print(\"Mean Insurance Charges by region:\")\n",
        "print(mean_charges_by_region)"
      ],
      "metadata": {
        "colab": {
          "base_uri": "https://localhost:8080/"
        },
        "id": "EfTAbRn4-K8W",
        "outputId": "5e98f532-44c0-4520-ac9e-80ed1daf1cad"
      },
      "execution_count": 21,
      "outputs": [
        {
          "output_type": "stream",
          "name": "stdout",
          "text": [
            "Mean Insurance Charges by region:\n",
            "region\n",
            "northeast    13406.384516\n",
            "northwest    12417.575374\n",
            "southeast    14735.411438\n",
            "southwest    12346.937377\n",
            "Name: charges, dtype: float64\n"
          ]
        }
      ]
    },
    {
      "cell_type": "code",
      "source": [
        "# Calculate std deviation insurance charges for sex\n",
        "sd_charges_by_sex = df.groupby('sex')['charges'].std()\n",
        "print(\"Sd Insurance Charges by sex:\")\n",
        "print(sd_charges_by_sex)"
      ],
      "metadata": {
        "colab": {
          "base_uri": "https://localhost:8080/"
        },
        "id": "GYeVpcZe-RT8",
        "outputId": "a9598466-d3ac-4785-8deb-55bf07e21adb"
      },
      "execution_count": 22,
      "outputs": [
        {
          "output_type": "stream",
          "name": "stdout",
          "text": [
            "Sd Insurance Charges by sex:\n",
            "sex\n",
            "female    11128.703801\n",
            "male      12971.025915\n",
            "Name: charges, dtype: float64\n"
          ]
        }
      ]
    },
    {
      "cell_type": "code",
      "source": [
        "# Calculate std deviation insurance charges for smoker and non-smoker\n",
        "sd_charges_by_smoker = df.groupby('smoker')['charges'].std()\n",
        "print(\"Sd Insurance Charges by Smoker:\")\n",
        "print(sd_charges_by_smoker)"
      ],
      "metadata": {
        "colab": {
          "base_uri": "https://localhost:8080/"
        },
        "id": "1NTjqBba-Wkl",
        "outputId": "8e6b8d46-2aec-4d42-afd8-0034203d1d81"
      },
      "execution_count": 23,
      "outputs": [
        {
          "output_type": "stream",
          "name": "stdout",
          "text": [
            "Sd Insurance Charges by Smoker:\n",
            "smoker\n",
            "no      5993.781819\n",
            "yes    11541.547176\n",
            "Name: charges, dtype: float64\n"
          ]
        }
      ]
    },
    {
      "cell_type": "code",
      "source": [
        "# Calculate std deviation insurance charges for region\n",
        "sd_charges_by_region = df.groupby('region')['charges'].std()\n",
        "print(\"Sd Insurance Charges by region:\")\n",
        "print(sd_charges_by_region)"
      ],
      "metadata": {
        "colab": {
          "base_uri": "https://localhost:8080/"
        },
        "id": "sZPq_iqr-cnE",
        "outputId": "4ac56acf-d276-4409-f5a0-352b5ed348d5"
      },
      "execution_count": 25,
      "outputs": [
        {
          "output_type": "stream",
          "name": "stdout",
          "text": [
            "Sd Insurance Charges by region:\n",
            "region\n",
            "northeast    11255.803066\n",
            "northwest    11072.276928\n",
            "southeast    13971.098589\n",
            "southwest    11557.179101\n",
            "Name: charges, dtype: float64\n"
          ]
        }
      ]
    },
    {
      "cell_type": "code",
      "source": [
        "# Calculate std deviation insurance charges for no of children\n",
        "sd_charges_by_children = df.groupby('region')['children'].std()\n",
        "print(\"Sd Insurance Charges by children:\")\n",
        "print(sd_charges_by_children)"
      ],
      "metadata": {
        "colab": {
          "base_uri": "https://localhost:8080/"
        },
        "id": "kfTTGLFh-fYf",
        "outputId": "e4d88e72-567c-4582-c68e-9797d580f87a"
      },
      "execution_count": 42,
      "outputs": [
        {
          "output_type": "stream",
          "name": "stdout",
          "text": [
            "Sd Insurance Charges by children:\n",
            "region\n",
            "northeast    1.198949\n",
            "northwest    1.171828\n",
            "southeast    1.177276\n",
            "southwest    1.275952\n",
            "Name: children, dtype: float64\n"
          ]
        }
      ]
    },
    {
      "cell_type": "code",
      "source": [
        "smoker_value_count=df[\"smoker\"].value_counts()\n",
        "print(smoker_value_count)\n",
        "sex_value_count=df[\"sex\"].value_counts()\n",
        "print(sex_value_count)\n",
        "Smoker_mode1=(smoker_value_count.iloc[0]/1338*100)\n",
        "print(Smoker_mode1)"
      ],
      "metadata": {
        "colab": {
          "base_uri": "https://localhost:8080/"
        },
        "id": "3WU5umIo-kXm",
        "outputId": "095ae287-ec87-49d4-be51-9dc441f2d236"
      },
      "execution_count": 43,
      "outputs": [
        {
          "output_type": "stream",
          "name": "stdout",
          "text": [
            "smoker\n",
            "no     1064\n",
            "yes     274\n",
            "Name: count, dtype: int64\n",
            "sex\n",
            "male      676\n",
            "female    662\n",
            "Name: count, dtype: int64\n",
            "79.52167414050822\n"
          ]
        }
      ]
    },
    {
      "cell_type": "code",
      "source": [
        "charges_count=len(df[\"charges\"])\n",
        "n_bins= int(np.sqrt(charges_count))\n",
        "print(n_bins)\n",
        "df[\"charges\"].hist(color='grey',edgecolor=\"black\",bins=n_bins, figsize=(6, 6))\n",
        "plt.title(\"Charges Distribution\")\n",
        "plt.xlabel(\"Charges\")\n",
        "plt.ylabel(\"Frequency\")\n",
        "plt.show()"
      ],
      "metadata": {
        "colab": {
          "base_uri": "https://localhost:8080/",
          "height": 582
        },
        "id": "aNQCq5hH-pI1",
        "outputId": "42de08b8-e490-44cc-ef5b-f652b1de6976"
      },
      "execution_count": 45,
      "outputs": [
        {
          "output_type": "stream",
          "name": "stdout",
          "text": [
            "36\n"
          ]
        },
        {
          "output_type": "display_data",
          "data": {
            "text/plain": [
              "<Figure size 600x600 with 1 Axes>"
            ],
            "image/png": "iVBORw0KGgoAAAANSUhEUgAAAhwAAAIjCAYAAABI0sIEAAAAOXRFWHRTb2Z0d2FyZQBNYXRwbG90bGliIHZlcnNpb24zLjguMCwgaHR0cHM6Ly9tYXRwbG90bGliLm9yZy81sbWrAAAACXBIWXMAAA9hAAAPYQGoP6dpAABNRklEQVR4nO3deXRU9d3H8c8MSYYJEEISQogkYV9kFSiUghRkEywuUJGtYqSggj4KbnUFtCpqxYUiVB8J2ooofQKiVjRs4oIoIEH2RTAqBAwpCYEQJszv+YOTCUO2ScjNZHm/zplzmHt/9853vjMkn9zVZowxAgAAsJDd3wUAAIDqj8ABAAAsR+AAAACWI3AAAADLETgAAIDlCBwAAMByBA4AAGA5AgcAALAcgQMAAFiOwAFUAjabTXfeeae/y6gSbDabZs6cafnrrFu3TjabTevWrfNM69evnzp06GD5a0vSoUOHZLPZtGjRogp5PcBqBA7AQgcOHNBtt92m5s2bq3bt2goJCVHv3r318ssvKzs729/l+V3Tpk1ls9lks9lkt9sVGhqqjh07avLkydq4cWO5vc7ixYv10ksvldv6ylNlrg0oTwH+LgCorj766CPdeOONcjgcuvnmm9WhQwedPXtWX3zxhe6//37t2LFDr732mr/L9LsuXbro3nvvlSSdPHlSu3bt0tKlS/X6669r2rRpmjNnjtf47OxsBQSU7kfX4sWLtX37dt1zzz0+L9O3b19lZ2crKCioVK9VWkXVFhcXp+zsbAUGBlr6+kBFIXAAFjh48KBGjx6tuLg4rVmzRo0bN/bMmzp1qvbv36+PPvqoQms6deqU6tSpU6Gv6YvLLrtM48eP95r27LPPauzYsXrxxRfVqlUr3XHHHZ55tWvXtrSeM2fOKCgoSHa73fLXKo7NZvPr6wPljV0qgAWee+45ZWVl6Y033vAKG3latmypu+++u8D05cuXq0OHDnI4HGrfvr1WrlzpNf/HH3/UlClT1KZNGzmdToWHh+vGG2/UoUOHvMYtWrRINptNn332maZMmaLIyEg1adLEM3/evHlq3ry5nE6nevTooc8//1z9+vVTv379vNaTk5OjGTNmqGXLlnI4HIqJidEDDzygnJwcr3FJSUnq06ePQkNDVbduXbVp00YPP/xwKbuWz+l06p///KfCwsL01FNP6cKbWl98DMfJkyd1zz33qGnTpnI4HIqMjNSgQYO0ZcsWSeePu/joo4/0448/enbfNG3aVFL+cRpLlizRo48+qssuu0zBwcHKzMws9BiOPJs3b9bvfvc7OZ1ONWvWTAsWLPCan9f/iz+Xi9dZXG1FHcOxZs0aXXnllapTp45CQ0N13XXXadeuXV5jZs6cKZvNpv379+uWW25RaGio6tevr/j4eJ0+fdq3DwEoZ2zhACzwwQcfqHnz5vrd737n8zJffPGFEhMTNWXKFNWrV0+vvPKKRo4cqZSUFIWHh0uSvv32W3311VcaPXq0mjRpokOHDmn+/Pnq16+fdu7cqeDgYK91TpkyRQ0bNtTjjz+uU6dOSZLmz5+vO++8U1deeaWmTZumQ4cO6frrr1eDBg28Qonb7da1116rL774QpMnT1a7du30/fff68UXX9TevXu1fPlySdKOHTv0hz/8QZ06ddITTzwhh8Oh/fv368svv7ykHtatW1c33HCD3njjDe3cuVPt27cvdNztt9+uf//737rzzjt1+eWX6/jx4/riiy+0a9cude3aVY888ogyMjL0888/68UXX/Ss+0JPPvmkgoKCdN999yknJ6fY3Sj//e9/NWzYMI0aNUpjxozRe++9pzvuuENBQUG69dZbS/UefantQqtWrdLQoUPVvHlzzZw5U9nZ2Zo7d6569+6tLVu2eMJKnlGjRqlZs2Z65plntGXLFv3v//6vIiMj9eyzz5aqTqBcGADlKiMjw0gy1113nc/LSDJBQUFm//79nmnJyclGkpk7d65n2unTpwssu2HDBiPJvPXWW55pCQkJRpLp06ePyc3N9UzPyckx4eHh5je/+Y1xuVye6YsWLTKSzO9//3vPtH/+85/Gbrebzz//3Ov1FixYYCSZL7/80hhjzIsvvmgkmV9//dXn95snLi7OXHPNNUXOz1v3+++/75kmycyYMcPzvH79+mbq1KnFvs4111xj4uLiCkxfu3atkWSaN29eoLd589auXeuZ9vvf/95IMi+88IJnWk5OjunSpYuJjIw0Z8+eNcbk9//gwYMlrrOo2g4ePGgkmYSEBM+0vNc5fvy4Z1pycrKx2+3m5ptv9kybMWOGkWRuvfVWr3XecMMNJjw8vMBrARWBXSpAOcvMzJQk1atXr1TLDRw4UC1atPA879Spk0JCQvTDDz94pjmdTs+/XS6Xjh8/rpYtWyo0NNSzC+FCkyZNUq1atTzPN23apOPHj2vSpEleB16OGzdODRo08Fp26dKlateundq2bau0tDTP46qrrpIkrV27VpIUGhoqSXr//ffldrtL9Z5LkvfX/smTJ4scExoaqo0bN+rw4cNlfp0JEyZ49bY4AQEBuu222zzPg4KCdNttt+nYsWPavHlzmWsoyZEjR7R161bdcsstCgsL80zv1KmTBg0apP/85z8Flrn99tu9nl955ZU6fvy45zsKVCQCB1DOQkJCJBX/S7IwsbGxBaY1aNBA//3vfz3Ps7Oz9fjjjysmJkYOh0MRERFq2LChTpw4oYyMjALLN2vWzOv5jz/+KOn8MSQXCggIKLA5ft++fdqxY4caNmzo9WjdurUk6dixY5Kkm266Sb1799af//xnNWrUSKNHj9Z7771XLuEjKytLUvHh7bnnntP27dsVExOjHj16aObMmV4hzRcX96k40dHRBQ6+zevJxcdslKe8z65NmzYF5rVr105paWme3WZ5Lv5O5YXKC79TQEXhGA6gnIWEhCg6Olrbt28v1XIXbom4kLnggMm77rpLCQkJuueee9SrVy/Vr19fNptNo0ePLvQXvK9/tRfG7XarY8eOBU5LzRMTE+N5jfXr12vt2rX66KOPtHLlSr377ru66qqr9Omnnxb5vnyR18OLA9KFRo0apSuvvFLLli3Tp59+queff17PPvusEhMTNXToUJ9e51L6VBibzVbo9HPnzpXr65TEl+8UUFEIHIAF/vCHP+i1117Thg0b1KtXr3Jb77///W9NmDBBL7zwgmfamTNndOLECZ+Wj4uLkyTt379f/fv390zPzc3VoUOH1KlTJ8+0Fi1aKDk5WQMGDCjyF2geu92uAQMGaMCAAZozZ46efvppPfLII1q7dq0GDhxYineYLysrS8uWLVNMTIzatWtX7NjGjRtrypQpmjJlio4dO6auXbvqqaee8gSOkuovjcOHDxc4xXjv3r2S5NlKlLcl4eLPJW8rxYV8rS3vs9uzZ0+Bebt371ZERESlPO0ZyMMuFcACDzzwgOrUqaM///nPOnr0aIH5Bw4c0Msvv1zq9daqVavAX6dz5871+S/n7t27Kzw8XK+//rpyc3M9099+++0Cm9lHjRqlX375Ra+//nqB9WRnZ3s236enpxeY36VLF0kqcPqsr7Kzs/WnP/1J6enpeuSRR4rdYnDxrqTIyEhFR0d7vXadOnUK3eVUFrm5ufrHP/7heX727Fn94x//UMOGDdWtWzdJ8hyLs379eq9aC7vQm6+1NW7cWF26dNGbb77pFWS2b9+uTz/9VMOGDSvrWwIqBFs4AAu0aNFCixcv1k033aR27dp5XWn0q6++0tKlS3XLLbeUer1/+MMf9M9//lP169fX5Zdfrg0bNmjVqlWe02ZLEhQUpJkzZ+quu+7SVVddpVGjRunQoUNatGiRWrRo4fWL/U9/+pPee+893X777Vq7dq169+6tc+fOaffu3Xrvvff0ySefqHv37nriiSe0fv16XXPNNYqLi9OxY8f06quvqkmTJurTp0+JNf3yyy/617/+Jen8Vo2dO3dq6dKlSk1N1b333ut1gObFTp48qSZNmuiPf/yjOnfurLp162rVqlX69ttvvbYCdevWTe+++66mT5+u3/zmN6pbt66GDx/uU88uFh0drWeffVaHDh1S69at9e6772rr1q167bXXPFcFbd++vX7729/qoYceUnp6usLCwrRkyRKvkFeW2p5//nkNHTpUvXr10sSJEz2nxdavX79C7i8DXBI/nyUDVGt79+41kyZNMk2bNjVBQUGmXr16pnfv3mbu3LnmzJkznnGSCj21My4uzkyYMMHz/L///a+Jj483ERERpm7dumbIkCFm9+7dBcblnZb57bffFlrXK6+8YuLi4ozD4TA9evQwX375penWrZu5+uqrvcadPXvWPPvss6Z9+/bG4XCYBg0amG7duplZs2aZjIwMY4wxq1evNtddd52Jjo42QUFBJjo62owZM8bs3bu3xP7ExcUZSUaSsdlsJiQkxLRv395MmjTJbNy4sdBldMFpsTk5Oeb+++83nTt3NvXq1TN16tQxnTt3Nq+++qrXMllZWWbs2LEmNDTUSPKchpp3murSpUsLvE5Rp8W2b9/ebNq0yfTq1cvUrl3bxMXFmb///e8Flj9w4IAZOHCgcTgcplGjRubhhx82SUlJBdZZVG2FnRZrjDGrVq0yvXv3Nk6n04SEhJjhw4ebnTt3eo3JOy324lOVizpdF6gINmM4egio6dxutxo2bKgRI0YUugsFAC4Vx3AANcyZM2cKHAfy1ltvKT09vcClzQGgvLCFA6hh1q1bp2nTpunGG29UeHi4tmzZojfeeEPt2rXT5s2bLb87KoCaiYNGgRqmadOmiomJ0SuvvOI5oPHmm2/W7NmzCRsALMMWDgAAYDmO4QAAAJYjcAAAAMtxDIfOnxJ4+PBh1atXr1wvgQwAQHVnjNHJkycVHR0tu73o7RgEDp2/N0LejagAAEDp/fTTT2rSpEmR8wkcyr/19U8//eS5tXhJXC6XPv30Uw0ePNhzOeOajH7koxfe6Ec+euGNfuSryr3IzMxUTEyM53dpUQgcyr9bY0hISKkCR3BwsEJCQqrcl8MK9CMfvfBGP/LRC2/0I1916EWJd5WuoDoAAEANRuAAAACWI3AAAADLETgAAIDlCBwAAMByBA4AAGA5AgcAALAcgQMAAFiOwAEAACxH4AAAAJYjcAAAAMsROAAAgOUIHAAAwHIEDgAAYDkCBwAAsByBAwAAWI7AAQAALEfgAAAAlgvwdwHVWUpKitLS0nweHxERodjYWAsrAgDAPwgcFklJSVHbtm2VnZ3t8zJOp1O7d+8mdAAAqh0Ch0XS0tKUnZ2tESNGKCIiwqfxiYmJSktLI3AAAKodAofFIiIiFB0d7e8yAADwKw4aBQAAliNwAAAAyxE4AACA5QgcAADAcgQOAABgOQIHAACwHIEDAABYjsABAAAsR+AAAACWI3AAAADL+TVwrF+/XsOHD1d0dLRsNpuWL1/uNd9msxX6eP755z1jmjZtWmD+7NmzK/idAACA4vg1cJw6dUqdO3fWvHnzCp1/5MgRr8fChQtls9k0cuRIr3FPPPGE17i77rqrIsoHAAA+8uvN24YOHaqhQ4cWOT8qKsrr+fvvv6/+/furefPmXtPr1atXYCwAAKg8qszdYo8ePaqPPvpIb775ZoF5s2fP1pNPPqnY2FiNHTtW06ZNU0BA0W8tJydHOTk5nueZmZmSJJfLJZfL5VM9eeOKGu92u+V0OhUQECC7veQNSQEBAXI6nXK73T7XUJmU1I+ahF54ox/56IU3+pGvKvfC15ptxhhjcS0+sdlsWrZsma6//vpC5z/33HOaPXu2Dh8+rNq1a3umz5kzR127dlVYWJi++uorPfTQQ4qPj9ecOXOKfK2ZM2dq1qxZBaYvXrxYwcHBl/xeAACoKU6fPq2xY8cqIyNDISEhRY6rMoGjbdu2GjRokObOnVvsehYuXKjbbrtNWVlZcjgchY4pbAtHTEyM0tLSim3WhVwul5KSkjRo0CAFBgYWmJ+cnKy+ffsqPj7ep909qampSkhI0Pr169W5c2efaqhMSupHTUIvvNGPfPTCG/3IV5V7kZmZqYiIiBIDR5XYpfL5559rz549evfdd0sc27NnT+Xm5urQoUNq06ZNoWMcDkehYSQwMLDUH3RRy9jtdmVnZys3N1dut7vE9eTm5io7O1t2u73KfdkuVJYeVlf0whv9yEcvvNGPfFWxF77WWyWuw/HGG2+oW7duPv3lv3XrVtntdkVGRlZAZQAAwBd+3cKRlZWl/fv3e54fPHhQW7duVVhYmGJjYyWd31SzdOlSvfDCCwWW37BhgzZu3Kj+/furXr162rBhg6ZNm6bx48erQYMGFfY+AABA8fwaODZt2qT+/ft7nk+fPl2SNGHCBC1atEiStGTJEhljNGbMmALLOxwOLVmyRDNnzlROTo6aNWumadOmedYDAAAqB78Gjn79+qmkY1YnT56syZMnFzqva9eu+vrrr60oDQAAlKMqcQwHAACo2ggcAADAcgQOAABgOQIHAACwHIEDAABYjsABAAAsR+AAAACWI3AAAADLETgAAIDlCBwAAMByBA4AAGA5AgcAALAcgQMAAFiOwAEAACxH4AAAAJYjcAAAAMsROAAAgOUIHAAAwHIEDgAAYDkCBwAAsByBAwAAWI7AAQAALEfgAAAAliNwAAAAyxE4AACA5QgcAADAcgQOAABgOQIHAACwHIEDAABYjsABAAAsR+AAAACWI3AAAADLETgAAIDlCBwAAMByBA4AAGA5AgcAALAcgQMAAFiOwAEAACxH4AAAAJYjcAAAAMsROAAAgOUIHAAAwHIEDgAAYDkCBwAAsByBAwAAWI7AAQAALEfgAAAAliNwAAAAyxE4AACA5fwaONavX6/hw4crOjpaNptNy5cv95p/yy23yGazeT2uvvpqrzHp6ekaN26cQkJCFBoaqokTJyorK6sC3wUAACiJXwPHqVOn1LlzZ82bN6/IMVdffbWOHDniebzzzjte88eNG6cdO3YoKSlJH374odavX6/JkydbXToAACiFAH+++NChQzV06NBixzgcDkVFRRU6b9euXVq5cqW+/fZbde/eXZI0d+5cDRs2TH/7298UHR1d7jUDAIDS82vg8MW6desUGRmpBg0a6KqrrtJf//pXhYeHS5I2bNig0NBQT9iQpIEDB8put2vjxo264YYbCl1nTk6OcnJyPM8zMzMlSS6XSy6Xy6e68sYVNd7tdsvpdCogIEB2e8kbkgICAuR0OuV2u32uoTIpqR81Cb3wRj/y0Qtv9CNfVe6FrzXbjDHG4lp8YrPZtGzZMl1//fWeaUuWLFFwcLCaNWumAwcO6OGHH1bdunW1YcMG1apVS08//bTefPNN7dmzx2tdkZGRmjVrlu64445CX2vmzJmaNWtWgemLFy9WcHBwub4vAACqs9OnT2vs2LHKyMhQSEhIkeMq9RaO0aNHe/7dsWNHderUSS1atNC6des0YMCAMq/3oYce0vTp0z3PMzMzFRMTo8GDBxfbrAu5XC4lJSVp0KBBCgwMLDA/OTlZffv2VXx8fJG7hC6UmpqqhIQErV+/Xp07d/b9zVQSJfWjJqEX3uhHPnrhjX7kq8q9yNtLUJJKHTgu1rx5c0VERGj//v0aMGCAoqKidOzYMa8xubm5Sk9PL/aXvMPhkMPhKDA9MDCw1B90UcvY7XZlZ2crNzdXbre7xPXk5uYqOztbdru9yn3ZLlSWHlZX9MIb/chHL7zRj3xVsRe+1lulrsPx888/6/jx42rcuLEkqVevXjpx4oQ2b97sGbNmzRq53W717NnTX2UCAICL+HULR1ZWlvbv3+95fvDgQW3dulVhYWEKCwvTrFmzNHLkSEVFRenAgQN64IEH1LJlSw0ZMkSS1K5dO1199dWaNGmSFixYIJfLpTvvvFOjR4/mDBUAACoRv27h2LRpk6644gpdccUVkqTp06friiuu0OOPP65atWpp27Ztuvbaa9W6dWtNnDhR3bp10+eff+61O+Ttt99W27ZtNWDAAA0bNkx9+vTRa6+95q+3BAAACuHXLRz9+vVTcSfJfPLJJyWuIywsTIsXLy7PsgAAQDmrUsdwAACAqonAAQAALEfgAAAAliNwAAAAyxE4AACA5QgcAADAcgQOAABgOQIHAACwHIEDAABYjsABAAAsR+AAAACWI3AAAADLETgAAIDlCBwAAMByfr09PQratWuXT+MiIiIUGxtrcTUAAJQPAkclkZWVJZvNpvHjx/s03ul0avfu3YQOAECVQOCoJM6cOSNjjEaMGKGIiIhix6alpSkxMVFpaWkEDgBAlUDgqGQiIiIUHR3t7zIAAChXHDQKAAAsR+AAAACWI3AAAADLETgAAIDlCBwAAMByBA4AAGA5AgcAALAcgQMAAFiOwAEAACxH4AAAAJYjcAAAAMsROAAAgOUIHAAAwHIEDgAAYDkCBwAAsByBAwAAWI7AAQAALEfgAAAAliNwAAAAyxE4AACA5QgcAADAcgQOAABguQB/F4Cy27Vrl89jIyIiFBsba2E1AAAUjcBRBWVlZclms2n8+PE+L+N0OrV7925CBwDALwgcVdCZM2dkjNGIESMUERFR4vi0tDQlJiYqLS2NwAEA8AsCRxUWERGh6Ohof5cBAECJOGgUAABYjsABAAAsR+AAAACWI3AAAADLETgAAIDlCBwAAMByfg0c69ev1/DhwxUdHS2bzably5d75rlcLj344IPq2LGj6tSpo+joaN188806fPiw1zqaNm0qm83m9Zg9e3YFvxMAAFAcvwaOU6dOqXPnzpo3b16BeadPn9aWLVv02GOPacuWLUpMTNSePXt07bXXFhj7xBNP6MiRI57HXXfdVRHlAwAAH/n1wl9Dhw7V0KFDC51Xv359JSUleU37+9//rh49eiglJcXripn16tVTVFSUpbUCAICyq1JXGs3IyJDNZlNoaKjX9NmzZ+vJJ59UbGysxo4dq2nTpikgoOi3lpOTo5ycHM/zzMxMSed347hcLp9qyRtX1Hi32y2n06mAgADZ7SVvSAoMDPR5fGnGSlJAQICcTqfcbrfP76+0SupHTUIvvNGPfPTCG/3IV5V74WvNNmOMsbgWn9hsNi1btkzXX399ofPPnDmj3r17q23btnr77bc90+fMmaOuXbsqLCxMX331lR566CHFx8drzpw5Rb7WzJkzNWvWrALTFy9erODg4Et+LwAA1BSnT5/W2LFjlZGRoZCQkCLHVYnA4XK5NHLkSP38889at25dsW9o4cKFuu2225SVlSWHw1HomMK2cMTExCgtLa3YdV9cU1JSkgYNGqTAwMAC85OTk9W3b1/Fx8f7tLtnx44dWrFihU/jSzNWklJTU5WQkKDXX39dbdq0KXG8JIWHh6tJkyY+jZVK7kdNQi+80Y989MIb/chXlXuRmZmpiIiIEgNHpd+l4nK5NGrUKP34449as2ZNiYGgZ8+eys3N1aFDh4r85epwOAoNI4GBgaX+oItaxm63Kzs7W7m5uXK73SWux+Vy+Ty+NGMl6cSJEzpz5kyF3M6+LD2sruiFN/qRj154ox/5qmIvfK23UgeOvLCxb98+rV27VuHh4SUus3XrVtntdkVGRlZAhVUDt7MHAPibXwNHVlaW9u/f73l+8OBBbd26VWFhYWrcuLH++Mc/asuWLfrwww917tw5paamSpLCwsIUFBSkDRs2aOPGjerfv7/q1aunDRs2aNq0aRo/frwaNGjgr7dVaXE7ewCAv/g1cGzatEn9+/f3PJ8+fbokacKECZo5c6ZWrFghSerSpYvXcmvXrlW/fv3kcDi0ZMkSzZw5Uzk5OWrWrJmmTZvmWQ8AAKgc/Bo4+vXrp+KOWS3peNauXbvq66+/Lu+yAABAOeNeKgAAwHKV+qBR+NeuXbt8HssxMwCA4hA4UEBWVpZsNlupTqMNCwvTwoULLawKAFCVEThQQFlOo/34448roDIAQFVF4ECROI0WAFBeOGgUAABYjsABAAAsR+AAAACWI3AAAADLETgAAIDlCBwAAMBynBaLcpWcnCy7vfgcGxERwW3vAaCGIXDgkuVdmVSS+vbtq+zs7GLHO51O7d69m9ABADUIgQOXLO/KpJIUHx+v3NzcIsempaUpMTFRaWlpBA4AqEEIHChXUVFRcrvd/i4DAFDJcNAoAACwHIEDAABYjsABAAAsR+AAAACWI3AAAADLETgAAIDlCBwAAMByBA4AAGA5AgcAALAcgQMAAFiOwAEAACxH4AAAAJYjcAAAAMsROAAAgOUIHAAAwHIEDgAAYLkyBY4ffvihvOsAAADVWJkCR8uWLdW/f3/961//0pkzZ8q7JgAAUM2UKXBs2bJFnTp10vTp0xUVFaXbbrtN33zzTXnXBgAAqokyBY4uXbro5Zdf1uHDh7Vw4UIdOXJEffr0UYcOHTRnzhz9+uuv5V0nAACowi7poNGAgACNGDFCS5cu1bPPPqv9+/frvvvuU0xMjG6++WYdOXKkvOoEAABV2CUFjk2bNmnKlClq3Lix5syZo/vuu08HDhxQUlKSDh8+rOuuu6686gQAAFVYQFkWmjNnjhISErRnzx4NGzZMb731loYNGya7/Xx+adasmRYtWqSmTZuWZ60AAKCKKlPgmD9/vm699Vbdcsstaty4caFjIiMj9cYbb1xScQAAoHooU+DYt29fiWOCgoI0YcKEsqweAABUM2U6hiMhIUFLly4tMH3p0qV68803L7koAABQvZQpcDzzzDOKiIgoMD0yMlJPP/30JRcFAACqlzIFjpSUFDVr1qzA9Li4OKWkpFxyUQAAoHopU+CIjIzUtm3bCkxPTk5WeHj4JRcFAACqlzIFjjFjxuh//ud/tHbtWp07d07nzp3TmjVrdPfdd2v06NHlXSMAAKjiynSWypNPPqlDhw5pwIABCgg4vwq3262bb76ZYzjgk127dvk8NiIiQrGxsRZWAwCwWpkCR1BQkN599109+eSTSk5OltPpVMeOHRUXF1fe9aGaycrKks1m0/jx431exul0avfu3YQOAKjCyhQ48rRu3VqtW7cur1pQA5w5c0bGGI0YMaLQM50ulpaWpsTERKWlpRE4AKAKK1PgOHfunBYtWqTVq1fr2LFjcrvdXvPXrFlTLsWh+oqIiFB0dLS/ywAAVJAyHTR699136+6779a5c+fUoUMHde7c2evhq/Xr12v48OGKjo6WzWbT8uXLveYbY/T444+rcePGcjqdGjhwYIGrnKanp2vcuHEKCQlRaGioJk6cqKysrLK8LQAAYJEybeFYsmSJ3nvvPQ0bNuySXvzUqVPq3Lmzbr31Vo0YMaLA/Oeee06vvPKK3nzzTTVr1kyPPfaYhgwZop07d6p27dqSpHHjxunIkSNKSkqSy+VSfHy8Jk+erMWLF19SbQAAoPyU+aDRli1bXvKLDx06VEOHDi10njFGL730kh599FHPbe7feustNWrUSMuXL9fo0aO1a9curVy5Ut9++626d+8uSZo7d66GDRumv/3tb2yyBwCgkihT4Lj33nv18ssv6+9//7tsNlt51yRJOnjwoFJTUzVw4EDPtPr166tnz57asGGDRo8erQ0bNig0NNQTNiRp4MCBstvt2rhxo2644YZC152Tk6OcnBzP88zMTEmSy+WSy+Xyqb68cUWNd7vdcjqdCggIkN1e8p6rwMBAn8eXZmxFjpdU7rUHBATI6XTK7Xb7/Nn4W0nfjZqGfuSjF97oR76q3Atfa7YZY0xpV37DDTdo7dq1CgsLU/v27RUYGOg1PzExsbSrlM1m07Jly3T99ddLkr766iv17t1bhw8fVuPGjT3jRo0aJZvNpnfffVdPP/203nzzTe3Zs8drXZGRkZo1a5buuOOOQl9r5syZmjVrVoHpixcvVnBwcKlrBwCgpjp9+rTGjh2rjIwMhYSEFDmuTFs4QkNDi9x6UBU89NBDmj59uud5ZmamYmJiNHjw4GKbdSGXy6WkpCQNGjSoQOCSzl/mvW/fvoqPj1dUVFSJ69uxY4dWrFjh0/jSjK2o8UlJSVq4cKG2b99e4KylS1l3amqqEhIStH79+lIdkOxPJX03ahr6kY9eeKMf+apyL/L2EpSkTIEjISGhLIuVSt4vo6NHj3pt4Th69Ki6dOniGXPs2DGv5XJzc5Wenl7sLzOHwyGHw1FgemBgYKk/6KKWsdvtys7OVm5ubrG/gPO4XC6fx5dmbEWOl87vSipumdKuOzc3V9nZ2bLb7VXuP2FZvk/VGf3IRy+80Y98VbEXvtZbptNipfO/CFatWqV//OMfOnnypCTp8OHD5XZKarNmzRQVFaXVq1d7pmVmZmrjxo3q1auXJKlXr146ceKENm/e7BmzZs0aud1u9ezZs1zqAAAAl65MWzh+/PFHXX311UpJSVFOTo4GDRqkevXq6dlnn1VOTo4WLFjg03qysrK0f/9+z/ODBw9q69atCgsLU2xsrO655x799a9/VatWrTynxUZHR3uO82jXrp2uvvpqTZo0SQsWLJDL5dKdd96p0aNHc4YKAACVSJkCx913363u3bsXuB39DTfcoEmTJvm8nk2bNql///6e53nHVUyYMEGLFi3SAw88oFOnTmny5Mk6ceKE+vTpo5UrV3quwSFJb7/9tu68804NGDBAdrtdI0eO1CuvvFKWtwUAACxSpsDx+eef66uvvlJQUJDX9KZNm+qXX37xeT39+vVTcSfJ2Gw2PfHEE3riiSeKHBMWFsZFvgAAqOTKdAyH2+3WuXPnCkz/+eefVa9evUsuCgAAVC9lChyDBw/WSy+95Hlus9mUlZWlGTNmXPLlzgEAQPVTpl0qL7zwgoYMGaLLL79cZ86c0dixY7Vv3z5FRETonXfeKe8aAQBAFVemwNGkSRMlJydryZIl2rZtm7KysjRx4kSNGzfOc4lrAACAPGUKHNL5e1yMHz++PGsBAADVVJkCx1tvvVXs/JtvvrlMxQAAgOqpzNfhuJDL5dLp06cVFBSk4OBgAgcAAPBSprNU/vvf/3o9srKytGfPHvXp04eDRgEAQAFlvpfKxVq1aqXZs2cX2PoBAABQboFDOn8g6eHDh8tzlQAAoBoo0zEcK1as8HpujNGRI0f097//Xb179y6XwgAAQPVRpsCRd7fWPDabTQ0bNtRVV12lF154oTzqAgAA1UiZAofb7S7vOgAAQDVWrsdwAAAAFKZMWzimT5/u89g5c+aU5SUAAEA1UqbA8d133+m7776Ty+VSmzZtJEl79+5VrVq11LVrV884m81WPlUCAIAqrUyBY/jw4apXr57efPNNNWjQQNL5i4HFx8fryiuv1L333luuRQIAgKqtTMdwvPDCC3rmmWc8YUOSGjRooL/+9a+cpQIAAAooU+DIzMzUr7/+WmD6r7/+qpMnT15yUQAAoHopU+C44YYbFB8fr8TERP3888/6+eef9X//93+aOHGiRowYUd41AgCAKq5Mx3AsWLBA9913n8aOHSuXy3V+RQEBmjhxop5//vlyLRAAAFR9ZQocwcHBevXVV/X888/rwIEDkqQWLVqoTp065VocAACoHi7pwl9HjhzRkSNH1KpVK9WpU0fGmPKqCwAAVCNlChzHjx/XgAED1Lp1aw0bNkxHjhyRJE2cOJFTYgEAQAFlChzTpk1TYGCgUlJSFBwc7Jl+0003aeXKleVWHAAAqB7KdAzHp59+qk8++URNmjTxmt6qVSv9+OOP5VIYAACoPsq0hePUqVNeWzbypKeny+FwXHJRAACgeilT4Ljyyiv11ltveZ7bbDa53W4999xz6t+/f7kVBwAAqocy7VJ57rnnNGDAAG3atElnz57VAw88oB07dig9PV1ffvlledcIAACquDJt4ejQoYP27t2rPn366LrrrtOpU6c0YsQIfffdd2rRokV51wgAAKq4Um/hcLlcuvrqq7VgwQI98sgjVtQEAACqmVJv4QgMDNS2bdusqAUAAFRTZdqlMn78eL3xxhvlXQsAAKimynTQaG5urhYuXKhVq1apW7duBe6hMmfOnHIpDgAAVA+lChw//PCDmjZtqu3bt6tr166SpL1793qNsdls5VcdAACoFkoVOFq1aqUjR45o7dq1ks5fyvyVV15Ro0aNLCkOAABUD6U6huPiu8F+/PHHOnXqVLkWBAAAqp9Luj09t6MHAAC+KFXgsNlsBY7R4JgNAABQklIdw2GM0S233OK5QduZM2d0++23FzhLJTExsfwqBAAAVV6pAseECRO8no8fP75ciwEAANVTqQJHQkKCVXUAAIBq7JIOGgUAAPAFgQMAAFiOwAEAACxH4AAAAJYjcAAAAMsROAAAgOUIHAAAwHIEDgAAYLlKHziaNm3quYfLhY+pU6dKkvr161dg3u233+7nqgEAwIVKdaVRf/j222917tw5z/Pt27dr0KBBuvHGGz3TJk2apCeeeMLzPDg4uEJrBAAAxav0gaNhw4Zez2fPnq0WLVro97//vWdacHCwoqKifF5nTk6OcnJyPM8zMzMlSS6XSy6Xy6d15I0rarzb7ZbT6VRAQIDs9pI3JAUGBvo8vjRjK3K8pHKvPSAgQE6nU2632+fPxt9K+m7UNPQjH73wRj/yVeVe+FqzzRhjLK6l3Jw9e1bR0dGaPn26Hn74YUnnd6ns2LFDxhhFRUVp+PDheuyxx4rdyjFz5kzNmjWrwPTFixezdQQAgFI4ffq0xo4dq4yMDIWEhBQ5rkoFjvfee09jx45VSkqKoqOjJUmvvfaa4uLiFB0drW3btunBBx9Ujx49lJiYWOR6CtvCERMTo7S0tGKbdSGXy6WkpCQNGjRIgYGBBeYnJyerb9++io+P92nry44dO7RixQqfxpdmbEWNT0pK0sKFC7V9+3a53e5yW3dqaqoSEhK0fv16de7cucTxlUFJ342ahn7koxfe6Ee+qtyLzMxMRURElBg4Kv0ulQu98cYbGjp0qCdsSNLkyZM9/+7YsaMaN26sAQMG6MCBA2rRokWh63E4HHI4HAWmBwYGlvqDLmoZu92u7Oxs5ebmFvsLOI/L5fJ5fGnGVuR46fyupOKWKe26c3NzlZ2dLbvdXuX+E5bl+1Sd0Y989MIb/chXFXvha72V/iyVPD/++KNWrVqlP//5z8WO69mzpyRp//79FVEWAADwQZUJHAkJCYqMjNQ111xT7LitW7dKkho3blwBVQEAAF9UiV0qbrdbCQkJmjBhggIC8ks+cOCAFi9erGHDhik8PFzbtm3TtGnT1LdvX3Xq1MmPFQMAgAtVicCxatUqpaSk6NZbb/WaHhQUpFWrVumll17SqVOnFBMTo5EjR+rRRx/1U6UAAKAwVSJwDB48WIWdTBMTE6PPPvvMDxUBAIDSqDLHcAAAgKqLwAEAACxH4AAAAJYjcAAAAMsROAAAgOUIHAAAwHIEDgAAYDkCBwAAsByBAwAAWI7AAQAALEfgAAAAliNwAAAAyxE4AACA5QgcAADAcgQOAABgOQIHAACwHIEDAABYjsABAAAsF+DvAgBf7Nq1y+exERERio2NtbAaAEBpEThQqWVlZclms2n8+PE+L+N0OrV7925CBwBUIgQOVGpnzpyRMUYjRoxQREREiePT0tKUmJiotLQ0AgcAVCIEDlQJERERio6O9ncZAIAy4qBRAABgOQIHAACwHIEDAABYjsABAAAsR+AAAACWI3AAAADLETgAAIDlCBwAAMByBA4AAGA5AgcAALAcgQMAAFiOwAEAACxH4AAAAJYjcAAAAMsROAAAgOUIHAAAwHIEDgAAYDkCBwAAsByBAwAAWI7AAQAALEfgAAAAliNwAAAAyxE4AACA5QgcAADAcgQOAABgOQIHAACwHIEDAABYrlIHjpkzZ8pms3k92rZt65l/5swZTZ06VeHh4apbt65Gjhypo0eP+rFiAABQmEodOCSpffv2OnLkiOfxxRdfeOZNmzZNH3zwgZYuXarPPvtMhw8f1ogRI/xYLQAAKEyAvwsoSUBAgKKiogpMz8jI0BtvvKHFixfrqquukiQlJCSoXbt2+vrrr/Xb3/62oksFAABFqPSBY9++fYqOjlbt2rXVq1cvPfPMM4qNjdXmzZvlcrk0cOBAz9i2bdsqNjZWGzZsKDZw5OTkKCcnx/M8MzNTkuRyueRyuXyqK29cUePdbrecTqcCAgJkt5e8ISkwMNDn8aUZW5HjJfm99oCAADmdTrndbp8/y/JW0nejpqEf+eiFN/qRryr3wteabcYYY3EtZfbxxx8rKytLbdq00ZEjRzRr1iz98ssv2r59uz744APFx8d7BQdJ6tGjh/r3769nn322yPXOnDlTs2bNKjB98eLFCg4OLvf3AQBAdXX69GmNHTtWGRkZCgkJKXJcpQ4cFztx4oTi4uI0Z84cOZ3OMgeOwrZwxMTEKC0trdhmXcjlcikpKUmDBg1SYGBggfnJycnq27ev4uPjC90ldLEdO3ZoxYoVPo0vzdiKGp+UlKSFCxdq+/btcrvdfqslNTVVCQkJWr9+vTp37lzieCuU9N2oaehHPnrhjX7kq8q9yMzMVERERImBo9LvUrlQaGioWrdurf3792vQoEE6e/asTpw4odDQUM+Yo0ePlviLyeFwyOFwFJgeGBhY6g+6qGXsdruys7OVm5tb7C/gPC6Xy+fxpRlbkeOl87uSilvG6lpyc3OVnZ0tu93u9/+0Zfk+VWf0Ix+98EY/8lXFXvhab6U/S+VCWVlZOnDggBo3bqxu3bopMDBQq1ev9szfs2ePUlJS1KtXLz9WCQAALlapt3Dcd999Gj58uOLi4nT48GHNmDFDtWrV0pgxY1S/fn1NnDhR06dPV1hYmEJCQnTXXXepV69enKECAEAlU6kDx88//6wxY8bo+PHjatiwofr06aOvv/5aDRs2lCS9+OKLstvtGjlypHJycjRkyBC9+uqrfq4aAABcrFIHjiVLlhQ7v3bt2po3b57mzZtXQRUBAICyqFLHcAAAgKqJwAEAACxH4AAAAJYjcAAAAMsROAAAgOUIHAAAwHIEDgAAYDkCBwAAsByBAwAAWI7AAQAALEfgAAAAliNwAAAAyxE4AACA5QgcAADAcgQOAABgOQIHAACwHIEDAABYjsABAAAsR+AAAACWI3AAAADLETgAAIDlCBwAAMByBA4AAGC5AH8XAFQlKSkpSktLK3aM2+2WJCUnJysyMlKxsbEVURoAVGoEDsBHKSkpatu2rbKzs4sd53Q69c4776hv376SpN27dxM6ANR4BA7AR2lpacrOztaIESMUERFR5LiAgPP/ra699lq9++67SktLI3AAqPEIHEApRUREKDo6usj5dvv5Q6PCw8MrqiQAqPQ4aBQAAFiOwAEAACxH4AAAAJYjcAAAAMsROAAAgOUIHAAAwHIEDgAAYDkCBwAAsByBAwAAWI7AAQAALEfgAAAAliNwAAAAyxE4AACA5QgcAADAcgQOAABgOQIHAACwXIC/CwCqu127dvk8NiIiQrGxsRZWAwD+QeAALJKVlSWbzabx48f7vIzT6dTu3bsJHQCqHQIHarSUlBSlpaX5NLY0WyokKScnR8YYjRgxQhERESWOT0tLU2JiotLS0ggcAKodAgdqrJSUFLVt21bZ2dmWvk5ERISio6MtfQ0AqOwIHKix0tLSlJ2d7fMWiH379mnt2rUVUBkAVD8EDtR4vm6B8HXXCwCgoEp9Wuwzzzyj3/zmN6pXr54iIyN1/fXXa8+ePV5j+vXrJ5vN5vW4/fbb/VQxAAAoTKUOHJ999pmmTp2qr7/+WklJSXK5XBo8eLBOnTrlNW7SpEk6cuSI5/Hcc8/5qWIAAFCYSr1LZeXKlV7PFy1apMjISG3evFl9+/b1TA8ODlZUVFRFlwcAAHxUqQPHxTIyMiRJYWFhXtPffvtt/etf/1JUVJSGDx+uxx57TMHBwUWuJycnRzk5OZ7nmZmZkiSXyyWXy+VTLXnjihrvdrvldDoVEBAgu73kDUmBgYE+jy/N2IocL8nvtQcEBMjpdMrtdpf4WVr1GeXNy6vFitqrkpL+r9Qk9MIb/chXlXvha802Y4yxuJZy4Xa7de211+rEiRP64osvPNNfe+01xcXFKTo6Wtu2bdODDz6oHj16KDExsch1zZw5U7NmzSowffHixcUGFQAA4O306dMaO3asMjIyFBISUuS4KhM47rjjDn388cf64osv1KRJkyLHrVmzRgMGDND+/fvVokWLQscUtoUjJiZGaWlpxTbrQi6XS0lJSRo0aJACAwMLzE9OTlbfvn0VHx/v0+6eHTt2aMWKFT6NL83YihqflJSkhQsXavv27XK73X6rJTU1VQkJCVq/fr06d+5c7FirPiO73a4OHTpo6dKlSkxMtKT2qqSk/ys1Cb3wRj/yVeVeZGZmKiIiosTAUSV2qdx555368MMPtX79+mLDhiT17NlTkooNHA6HQw6Ho8D0wMDAUn/QRS1jt9uVnZ2t3NzcYn8B53G5XD6PL83Yihwvnd8SVdwyVteSm5ur7Oxs2e32Ej9LKz+jC2uxovaqqCz/v6oreuGNfuSrir3wtd5KHTiMMbrrrru0bNkyrVu3Ts2aNStxma1bt0qSGjdubHF1AADAV5U6cEydOlWLFy/W+++/r3r16ik1NVWSVL9+fTmdTh04cECLFy/WsGHDFB4erm3btmnatGnq27evOnXq5Ofq4U++3PektPdGqWxKcx8YiTvRAvCvSh045s+fL+n8xb0ulJCQoFtuuUVBQUFatWqVXnrpJZ06dUoxMTEaOXKkHn30UT9Ui8qgLHdorYrKch8Y7kQLwJ8qdeAo6XjWmJgYffbZZxVUDaqCM2fO+HyH1qp8b5TS3geGO9EC8LdKHTiAsvLl/ijV4d4o3Im28rtw11fewcPJyclFXpuFXV+orggcAGCRi3d9OZ1OvfPOO+rbt2+Ru8PY9YXqisABoMYrzQG4pdkCcfGur4CA8z9y4+PjlZubW+h4dn2huiJwAKjRSnsAblm2QOTt+srbjRIVFeXTtVmA6oTAAaBGK80BuGyBAMqOwAEA4gBcwGol38ISAADgErGFA6hkasJVUgHUPAQOoJKoKVdJBVAzETiASqKmXCUVQM1E4AAqmZpylVQANQsHjQIAAMuxhQMASsnXg3Y5uBfIR+AAAB9xYC9QdgQOoAYpzV/cVfmupaW5N0ppelKaA3slDu4FLkTgAGqAsvxlXlXvWlrae6OUha9XJeXgXiAfgQOoAUr7l3nePUM+//xztWvXzqfXqCxbREpzbxSp6m+FsOpOt0B5I3AANYivf5lXhy0iNWErREXc6RYoLwQOAAWUdYsId1GtWNzpFlUJgQNAkbiDatXA54SqgAt/AQAAy7GFAwAqmcpyYbHSHJAqcVAqikfgAIBKojJdWKwspxdzUCqKQ+AAgEqiMl1YrLSnF3NQKkpC4ACASqYyndLLAakoLxw0CgAALMcWDgCVnlX3RgFQcQgcACq1irg3CgDrETgAVGo17d4oQHVF4ABQJVSmAymrsspyjQ/UPAQOAKgBKtM1PlAzETgAlJvC/ip2u92SpOTkZNnt50+M44qUFa+irvFRmi0jDRo0KPX6UXUROABcsuL+enY6nXrnnXfUt29fz4GfXJHSf6zaNVWWLShhYWFauHBhqV4HVReBA8AlK+6v54CA8z9m4uPjlZubyxUpq6nSbkFJS0vTxx9/XAGVobIgcAAoN4X99Zy3GyUqKsqzewXVF1cmRVG40igAALAcgQMAAFiOwAEAACxH4AAAAJYjcAAAAMsROAAAgOUIHAAAwHIEDgAAYDkCBwAAsByBAwAAWI5LmwPwC1/vKlqau48CqLwIHAAqVFnuKgqg6iNwAKhQpb2r6L59+7R27doKqAyAlQgcAPzC17uKpqWlVUA1gHVSUlJK/B7n3Uk5OTlZkZGRio2NLdf1XygiIqJU6y8vBA4AACySkpKitm3bKjs7u9hxTqdT77zzjvr27StJ2r17t0+hwNf1X/xavq6/PFWbwDFv3jw9//zzSk1NVefOnTV37lz16NHD32UBAEqQnJwsu734kyZzcnLkcDh8Xmdp/4q3aitBWlqasrOzS9yFGBBw/tfxtddeq3fffVdpaWnluv4LxycmJvq8/vJULQLHu+++q+nTp2vBggXq2bOnXnrpJQ0ZMkR79uxRZGSkv8sDAFwk7+BhSerbt2+Jf6HbbDYZY3xef2n+iq+IrQQl7ULMC1zh4eE+11Ca9VcG1SJwzJkzR5MmTVJ8fLwkacGCBfroo4+0cOFC/eUvf/FzdQCAi+UdPCxJ8fHxys3NLXJs3oHDVv0VX5W2ElRlVT5wnD17Vps3b9ZDDz3kmWa32zVw4EBt2LCh0GVycnKUk5PjeZ6RkSFJSk9Pl8vl8ul1XS6XTp8+rePHjyswMLDA/MzMTNWuXVtpaWmeg4GKk5GR4fP40oytyPGnT5/WL7/8onPnzvm9Fn/2sVatWmrZsqVOnDhR5Wq3YnxeP/K+G1Wp9vJe98W9qEq1WzX+9OnTOnfuXLHL2O121a5dW5J8Wrck1a5dW5s3b1ZmZmaJY/ft22fZ+vPW7evPjbS0tDLV7mvf09PTVbt2bWVmZur48eMljvfFyZMnJankLVCmivvll1+MJPPVV195Tb///vtNjx49Cl1mxowZRhIPHjx48ODBo5weP/30U7G/r6v8Fo6yeOihhzR9+nTPc7fbrfT0dIWHh3v2KZYkMzNTMTEx+umnnxQSEmJVqVUG/chHL7zRj3z0whv9yFeVe2GM0cmTJ0s8hqTKB46IiAjVqlVLR48e9Zp+9OhRRUVFFbqMw+EocLRzaGhomV4/JCSkyn05rEQ/8tELb/QjH73wRj/yVdVe1K9fv8QxVf7mbUFBQerWrZtWr17tmeZ2u7V69Wr16tXLj5UBAIA8VX4LhyRNnz5dEyZMUPfu3dWjRw+99NJLOnXqlOesFQAA4F/VInDcdNNN+vXXX/X4448rNTVVXbp00cqVK9WoUSPLXtPhcGjGjBmluhBNdUY/8tELb/QjH73wRj/y1YRe2IwpxZVUAAAAyqDKH8MBAAAqPwIHAACwHIEDAABYjsABAAAsR+Aoo3nz5qlp06aqXbu2evbsqW+++cbfJZXK+vXrNXz4cEVHR8tms2n58uVe840xevzxx9W4cWM5nU4NHDhQ+/bt8xqTnp6ucePGKSQkRKGhoZo4caKysrK8xmzbtk1XXnmlateurZiYGD333HMFalm6dKnatm2r2rVrq2PHjvrPf/5T7u+3OM8884x+85vfqF69eoqMjNT111+vPXv2eI05c+aMpk6dqvDwcNWtW1cjR44scLG5lJQUXXPNNQoODlZkZKTuv//+AjekWrdunbp27SqHw6GWLVtq0aJFBerx93dr/vz56tSpk+cCRL169dLHH3/smV+TenGx2bNny2az6Z577vFMq0n9mDlzpmw2m9ejbdu2nvk1qReS9Msvv2j8+PEKDw+X0+lUx44dtWnTJs/8mvRz1CflcT+TmmbJkiUmKCjILFy40OzYscNMmjTJhIaGmqNHj/q7NJ/95z//MY888ohJTEw0ksyyZcu85s+ePdvUr1/fLF++3CQnJ5trr73WNGvWzGRnZ3vGXH311aZz587m66+/Np9//rlp2bKlGTNmjGd+RkaGadSokRk3bpzZvn27eeedd4zT6TT/+Mc/PGO+/PJLU6tWLfPcc8+ZnTt3mkcffdQEBgaa77//3vIe5BkyZIhJSEgw27dvN1u3bjXDhg0zsbGxJisryzPm9ttvNzExMWb16tVm06ZN5re//a353e9+55mfm5trOnToYAYOHGi+++4785///MdERESYhx56yDPmhx9+MMHBwWb69Olm586dZu7cuaZWrVpm5cqVnjGV4bu1YsUK89FHH5m9e/eaPXv2mIcfftgEBgaa7du317heXOibb74xTZs2NZ06dTJ33323Z3pN6seMGTNM+/btzZEjRzyPX3/91TO/JvUiPT3dxMXFmVtuucVs3LjR/PDDD+aTTz4x+/fv94ypST9HfUHgKIMePXqYqVOnep6fO3fOREdHm2eeecaPVZXdxYHD7XabqKgo8/zzz3umnThxwjgcDvPOO+8YY4zZuXOnkWS+/fZbz5iPP/7Y2Gw288svvxhjjHn11VdNgwYNTE5OjmfMgw8+aNq0aeN5PmrUKHPNNdd41dOzZ09z2223let7LI1jx44ZSeazzz4zxpx/74GBgWbp0qWeMbt27TKSzIYNG4wx5wOc3W43qampnjHz5883ISEhnvf/wAMPmPbt23u91k033WSGDBnieV5Zv1sNGjQw//u//1tje3Hy5EnTqlUrk5SUZH7/+997AkdN68eMGTNM586dC51X03rx4IMPmj59+hQ5v6b/HC0Mu1RK6ezZs9q8ebMGDhzomWa32zVw4EBt2LDBj5WVn4MHDyo1NdXrPdavX189e/b0vMcNGzYoNDRU3bt394wZOHCg7Ha7Nm7c6BnTt29fBQUFecYMGTJEe/bs0X//+1/PmAtfJ2+MP3uZkZEhSQoLC5Mkbd68WS6Xy6vOtm3bKjY21qsfHTt29LrY3JAhQ5SZmakdO3Z4xhT3Xivjd+vcuXNasmSJTp06pV69etXYXkydOlXXXHNNgZprYj/27dun6OhoNW/eXOPGjVNKSoqkmteLFStWqHv37rrxxhsVGRmpK664Qq+//rpnfk3/OVoYAkcppaWl6dy5cwWuYtqoUSOlpqb6qarylfc+inuPqampioyM9JofEBCgsLAwrzGFrePC1yhqjL966Xa7dc8996h3797q0KGDpPM1BgUFFbjB38X9KOt7zczMVHZ2dqX6bn3//feqW7euHA6Hbr/9di1btkyXX355jezFkiVLtGXLFj3zzDMF5tW0fvTs2VOLFi3SypUrNX/+fB08eFBXXnmlTp48WeN68cMPP2j+/Plq1aqVPvnkE91xxx36n//5H7355pue95FXV1F1Vtefo0WpFpc2B8rL1KlTtX37dn3xxRf+LsWv2rRpo61btyojI0P//ve/NWHCBH322Wf+LqvC/fTTT7r77ruVlJSk2rVr+7scvxs6dKjn3506dVLPnj0VFxen9957T06n04+VVTy3263u3bvr6aefliRdccUV2r59uxYsWKAJEyb4ubrKiS0cpRQREaFatWoVOPL66NGjioqK8lNV5SvvfRT3HqOionTs2DGv+bm5uUpPT/caU9g6LnyNosb4o5d33nmnPvzwQ61du1ZNmjTxTI+KitLZs2d14sQJr/EX96Os7zUkJEROp7NSfbeCgoLUsmVLdevWTc8884w6d+6sl19+ucb1YvPmzTp27Ji6du2qgIAABQQE6LPPPtMrr7yigIAANWrUqEb142KhoaFq3bq19u/fX+O+G40bN9bll1/uNa1du3aeXUw19edocQgcpRQUFKRu3bpp9erVnmlut1urV69Wr169/FhZ+WnWrJmioqK83mNmZqY2btzoeY+9evXSiRMntHnzZs+YNWvWyO12q2fPnp4x69evl8vl8oxJSkpSmzZt1KBBA8+YC18nb0xF9tIYozvvvFPLli3TmjVr1KxZM6/53bp1U2BgoFede/bsUUpKilc/vv/+e68fHklJSQoJCfH8UCrpvVbm75bb7VZOTk6N68WAAQP0/fffa+vWrZ5H9+7dNW7cOM+/a1I/LpaVlaUDBw6ocePGNe670bt37wKnz+/du1dxcXGSat7PUZ/4+6jVqmjJkiXG4XCYRYsWmZ07d5rJkyeb0NBQryOvK7uTJ0+a7777znz33XdGkpkzZ4757rvvzI8//miMOX86V2hoqHn//ffNtm3bzHXXXVfo6VxXXHGF2bhxo/niiy9Mq1atvE7nOnHihGnUqJH505/+ZLZv326WLFligoODC5zOFRAQYP72t7+ZXbt2mRkzZlT46Vx33HGHqV+/vlm3bp3X6X6nT5/2jLn99ttNbGysWbNmjdm0aZPp1auX6dWrl2d+3ul+gwcPNlu3bjUrV640DRs2LPR0v/vvv9/s2rXLzJs3r9DT/fz93frLX/5iPvvsM3Pw4EGzbds285e//MXYbDbz6aef1rheFObCs1SMqVn9uPfee826devMwYMHzZdffmkGDhxoIiIizLFjx2pcL7755hsTEBBgnnrqKbNv3z7z9ttvm+DgYPOvf/3LM6Ym/Rz1BYGjjObOnWtiY2NNUFCQ6dGjh/n666/9XVKprF271kgq8JgwYYIx5vwpXY899php1KiRcTgcZsCAAWbPnj1e6zh+/LgZM2aMqVu3rgkJCTHx8fHm5MmTXmOSk5NNnz59jMPhMJdddpmZPXt2gVree+8907p1axMUFGTat29vPvroI8ved2EK64Mkk5CQ4BmTnZ1tpkyZYho0aGCCg4PNDTfcYI4cOeK1nkOHDpmhQ4cap9NpIiIizL333mtcLpfXmLVr15ouXbqYoKAg07x5c6/XyOPv79att95q4uLiTFBQkGnYsKEZMGCAJ2wYU7N6UZiLA0dN6sdNN91kGjdubIKCgsxll11mbrrpJq/rTtSkXhhjzAcffGA6dOhgHA6Hadu2rXnttde85tekn6O+4Pb0AADAchzDAQAALEfgAAAAliNwAAAAyxE4AACA5QgcAADAcgQOAABgOQIHAACwHIEDAABYjsABwDI2m03Lly/3dxkAKgECB4AyS01N1V133aXmzZvL4XAoJiZGw4cPL3AjKQAI8HcBAKqmQ4cOqXfv3goNDdXzzz+vjh07yuVy6ZNPPtHUqVO1e/duS1737NmzCgoKsmTdAKzDFg4AZTJlyhTZbDZ98803GjlypFq3bq327dtr+vTp+vrrrz3j0tLSdMMNNyg4OFitWrXSihUrPPPOnTuniRMnqlmzZnI6nWrTpo1efvllr9e55ZZbdP311+upp55SdHS02rRpI0n66quv1KVLF9WuXVvdu3fX8uXLZbPZtHXrVs+y27dv19ChQ1W3bl01atRIf/rTn5SWluaZ/+9//1sdO3aU0+lUeHi4Bg4cqFOnTlnUMaBmI3AAKLX09HStXLlSU6dOVZ06dQrMDw0N9fx71qxZGjVqlLZt26Zhw4Zp3LhxSk9PlyS53W41adJES5cu1c6dO/X444/r4Ycf1nvvvee1vtWrV2vPnj1KSkrShx9+qMzMTA0fPlwdO3bUli1b9OSTT+rBBx/0WubEiRO66qqrdMUVV2jTpk1auXKljh49qlGjRkmSjhw5ojFjxujWW2/Vrl27tG7dOo0YMULczxKwiJ/vVgugCtq4caORZBITE4sdJ8k8+uijnudZWVlGkvn444+LXGbq1Klm5MiRnucTJkwwjRo1Mjk5OZ5p8+fPN+Hh4SY7O9sz7fXXXzeSzHfffWeMMebJJ580gwcP9lr3Tz/9ZCSZPXv2mM2bNxtJ5tChQz69ZwCXhmM4AJSaKcVWgE6dOnn+XadOHYWEhOjYsWOeafPmzdPChQuVkpKi7OxsnT17Vl26dPFaR8eOHb2O29izZ486deqk2rVre6b16NHDa5nk5GStXbtWdevWLVDTgQMHNHjwYA0YMEAdO3bUkCFDNHjwYP3xj39UgwYNfH5vAHzHLhUApdaqVSvZbDafDgwNDAz0em6z2eR2uyVJS5Ys0X333aeJEyfq008/1datWxUfH6+zZ896LVPYbpuSZGVlafjw4dq6davXY9++ferbt69q1aqlpKQkffzxx7r88ss1d+5ctWnTRgcPHiz1awEoGYEDQKmFhYVpyJAhmjdvXqEHWZ44ccKn9Xz55Zf63e9+pylTpuiKK65Qy5YtdeDAgRKXa9Omjb7//nvl5OR4pn377bdeY7p27aodO3aoadOmatmypdcjL8DYbDb17t1bs2bN0nfffaegoCAtW7bMp9oBlA6BA0CZzJs3T+fOnVOPHj30f//3f9q3b5927dqlV155Rb169fJpHa1atdKmTZv0ySefaO/evXrssccKBIfCjB07Vm63W5MnT9auXbv0ySef6G9/+5uk8yFCkqZOnar09HSNGTNG3377rQ4cOKBPPvlE8fHxOnfunDZu3Kinn35amzZtUkpKihITE/Xrr7+qXbt2ZW8KgCIROACUSfPmzbVlyxb1799f9957rzp06KBBgwZp9erVmj9/vk/ruO222zRixAjddNNN6tmzp44fP64pU6aUuFxISIg++OADbd26VV26dNEjjzyixx9/XJI8x3VER0fryy+/1Llz5zR48GB17NhR99xzj0JDQ2W32xUSEqL169dr2LBhat26tR599FG98MILGjp0aNmbAqBINlOao78AoJJ6++23FR8fr4yMDDmdTn+XA+AinKUCoEp666231Lx5c1122WVKTk7Wgw8+qFGjRhE2gEqKwAGgSkpNTdXjjz+u1NRUNW7cWDfeeKOeeuopf5cFoAjsUgEAAJbjoFEAAGA5AgcAALAcgQMAAFiOwAEAACxH4AAAAJYjcAAAAMsROAAAgOUIHAAAwHL/D6dH3MTeYAEYAAAAAElFTkSuQmCC\n"
          },
          "metadata": {}
        }
      ]
    },
    {
      "cell_type": "code",
      "source": [
        "age_count=len(df[\"age\"])\n",
        "n_bins= int(np.sqrt(age_count))\n",
        "print(n_bins)\n",
        "df[\"age\"].hist(color = \"red\", edgecolor=\"black\",bins=n_bins)\n",
        "plt.title(\"age Distribution\")\n",
        "plt.xlabel(\"age\")\n",
        "plt.ylabel(\"Frequency\")\n",
        "plt.show()"
      ],
      "metadata": {
        "colab": {
          "base_uri": "https://localhost:8080/",
          "height": 490
        },
        "id": "Ks4bMcUi_E2u",
        "outputId": "8627d26b-90d4-4026-a361-c98da4337a9c"
      },
      "execution_count": 47,
      "outputs": [
        {
          "output_type": "stream",
          "name": "stdout",
          "text": [
            "36\n"
          ]
        },
        {
          "output_type": "display_data",
          "data": {
            "text/plain": [
              "<Figure size 640x480 with 1 Axes>"
            ],
            "image/png": "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\n"
          },
          "metadata": {}
        }
      ]
    },
    {
      "cell_type": "code",
      "source": [
        "children_count=len(df[\"children\"])\n",
        "n_bins= int(np.sqrt(age_count))\n",
        "print(n_bins)\n",
        "df[\"children\"].hist(edgecolor=\"black\",bins=n_bins)\n",
        "plt.title(\"children Distribution\")\n",
        "plt.xlabel(\"children\")\n",
        "plt.ylabel(\"Frequency\")\n",
        "plt.show()"
      ],
      "metadata": {
        "colab": {
          "base_uri": "https://localhost:8080/",
          "height": 490
        },
        "id": "r-LMcIpnKkB3",
        "outputId": "d0ab246a-150c-4055-8031-3491cf626401"
      },
      "execution_count": 48,
      "outputs": [
        {
          "output_type": "stream",
          "name": "stdout",
          "text": [
            "36\n"
          ]
        },
        {
          "output_type": "display_data",
          "data": {
            "text/plain": [
              "<Figure size 640x480 with 1 Axes>"
            ],
            "image/png": "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\n"
          },
          "metadata": {}
        }
      ]
    },
    {
      "cell_type": "code",
      "source": [
        "sex_value_counts=df[\"sex\"].value_counts()\n",
        "print(sex_value_counts)\n",
        "sex_value_counts.plot(kind=\"bar\", edgecolor=\"black\")\n",
        "plt.title(\"Sex Distribution\")\n",
        "plt.xlabel(\"sex\")\n",
        "plt.ylabel(\"Frequency\")\n",
        "plt.show()"
      ],
      "metadata": {
        "colab": {
          "base_uri": "https://localhost:8080/",
          "height": 578
        },
        "id": "cKT8kN2DKxup",
        "outputId": "fb8ebfdd-9628-494a-9a6c-2bbb5ef5b24e"
      },
      "execution_count": 51,
      "outputs": [
        {
          "output_type": "stream",
          "name": "stdout",
          "text": [
            "sex\n",
            "male      676\n",
            "female    662\n",
            "Name: count, dtype: int64\n"
          ]
        },
        {
          "output_type": "display_data",
          "data": {
            "text/plain": [
              "<Figure size 640x480 with 1 Axes>"
            ],
            "image/png": "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\n"
          },
          "metadata": {}
        }
      ]
    },
    {
      "cell_type": "code",
      "source": [
        "smoker_value_counts=df[\"smoker\"].value_counts()\n",
        "print(smoker_value_counts)\n",
        "smoker_value_counts.plot(kind=\"bar\", color = \"red\", edgecolor=\"black\")\n",
        "plt.title(\"Smoker Distribution\")\n",
        "plt.xlabel(\"smoker\")\n",
        "plt.ylabel(\"Frequency\")\n",
        "plt.show()"
      ],
      "metadata": {
        "colab": {
          "base_uri": "https://localhost:8080/",
          "height": 554
        },
        "id": "sy1ciGYAK3zM",
        "outputId": "caded48f-139d-4dcb-fbd9-1ac9c39008ee"
      },
      "execution_count": 56,
      "outputs": [
        {
          "output_type": "stream",
          "name": "stdout",
          "text": [
            "smoker\n",
            "no     1064\n",
            "yes     274\n",
            "Name: count, dtype: int64\n"
          ]
        },
        {
          "output_type": "display_data",
          "data": {
            "text/plain": [
              "<Figure size 640x480 with 1 Axes>"
            ],
            "image/png": "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\n"
          },
          "metadata": {}
        }
      ]
    },
    {
      "cell_type": "markdown",
      "source": [
        "Outliers"
      ],
      "metadata": {
        "id": "OYLint6APm0_"
      }
    },
    {
      "cell_type": "code",
      "source": [
        "#Calculate the Q1,Q2, Q3 for all continous varibale of the dataset\n",
        "age_q1=df[\"age\"].quantile(0.25)\n",
        "age_q2=df[\"age\"].quantile(0.50)\n",
        "age_q3=df[\"age\"].quantile(0.75)\n",
        "\n",
        "bmi_q1=df[\"bmi\"].quantile(0.25)\n",
        "bmi_q2=df[\"bmi\"].quantile(0.50)\n",
        "bmi_q3=df[\"bmi\"].quantile(0.75)\n",
        "\n",
        "children_q1=df[\"children\"].quantile (0.25)\n",
        "children_q2=df[\"children\"].quantile (0.50)\n",
        "children_q3=df[\"children\"].quantile (0.75)\n",
        "\n",
        "charges_q1=df[\"charges\"].quantile(0.25)\n",
        "charges_q2=df[\"charges\"].quantile(0.50)\n",
        "charges_q3=df[\"charges\"].quantile(0.75)\n",
        "\n",
        "print(age_q1)\n",
        "print(age_q2)\n",
        "print(age_q3)\n",
        "print()\n",
        "print(bmi_q1)\n",
        "print(bmi_q2)\n",
        "print(bmi_q3)\n",
        "print()\n",
        "print(children_q1)\n",
        "print(children_q2)\n",
        "print(children_q3)\n",
        "print()\n",
        "print(charges_q1)\n",
        "print(charges_q2)\n",
        "print(charges_q3)"
      ],
      "metadata": {
        "colab": {
          "base_uri": "https://localhost:8080/"
        },
        "id": "Oc-BaKd0LDAe",
        "outputId": "5018e628-4866-4e65-a883-1be66a2000f5"
      },
      "execution_count": 62,
      "outputs": [
        {
          "output_type": "stream",
          "name": "stdout",
          "text": [
            "27.0\n",
            "39.0\n",
            "51.0\n",
            "\n",
            "26.29625\n",
            "30.4\n",
            "34.69375\n",
            "\n",
            "0.0\n",
            "1.0\n",
            "2.0\n",
            "\n",
            "4740.28715\n",
            "9382.033\n",
            "16639.912515\n"
          ]
        }
      ]
    },
    {
      "cell_type": "code",
      "source": [
        "#Calculate IQR for all continous variable dataset\n",
        "age_iqr=age_q3-age_q1\n",
        "bmi_iqr=bmi_q3-bmi_q1\n",
        "children_iqr=children_q3-children_q1\n",
        "charges_iqr=charges_q3-charges_q1\n",
        "print(age_iqr)\n",
        "print(bmi_iqr)\n",
        "print(children_iqr)\n",
        "print(charges_iqr)"
      ],
      "metadata": {
        "colab": {
          "base_uri": "https://localhost:8080/"
        },
        "id": "OBvczF6CP6i3",
        "outputId": "4f052113-f15c-4996-913d-35465bb997a6"
      },
      "execution_count": 58,
      "outputs": [
        {
          "output_type": "stream",
          "name": "stdout",
          "text": [
            "24.0\n",
            "8.3975\n",
            "2.0\n",
            "11899.625365\n"
          ]
        }
      ]
    },
    {
      "cell_type": "code",
      "source": [
        "#calculate minimum and maximum for all continous variable\n",
        "age_min=df[\"age\"].min()\n",
        "age_max=df[\"age\"].max()\n",
        "\n",
        "bmi_min=df[\"bmi\"].min()\n",
        "bmi_max=df[\"bmi\"].max()\n",
        "\n",
        "children_min=df[\"children\"].min()\n",
        "children_max=df[\"children\"].max()\n",
        "\n",
        "charges_min=df[\"charges\"].min()\n",
        "charges_max=df[\"charges\"].max()\n",
        "\n",
        "lower_age=age_min\n",
        "upper_age=age_max\n",
        "\n",
        "lower_bmi=bmi_min\n",
        "upper_bmi=bmi_min\n",
        "\n",
        "lower_children=children_min\n",
        "upper_children=children_max\n",
        "\n",
        "lower_charges=charges_min\n",
        "upper_charges=charges_max\n",
        "\n",
        "print(lower_age)\n",
        "print(upper_age)\n",
        "print()\n",
        "print(lower_bmi)\n",
        "print(upper_bmi)\n",
        "print()\n",
        "print(lower_children)\n",
        "print(upper_children)\n",
        "print()\n",
        "print(lower_charges)\n",
        "print(upper_charges)\n"
      ],
      "metadata": {
        "colab": {
          "base_uri": "https://localhost:8080/"
        },
        "id": "ViTOrtrpP-U5",
        "outputId": "6d3aacef-12d5-40ee-d37e-732a5ad384ea"
      },
      "execution_count": 61,
      "outputs": [
        {
          "output_type": "stream",
          "name": "stdout",
          "text": [
            "18\n",
            "64\n",
            "\n",
            "15.96\n",
            "15.96\n",
            "\n",
            "0\n",
            "5\n",
            "\n",
            "1121.8739\n",
            "63770.42801\n"
          ]
        }
      ]
    },
    {
      "cell_type": "code",
      "source": [
        "#Calculate new minimum and maximum value for all continuous variable data\n",
        "age_bp_min=age_q1-1.5*age_iqr\n",
        "age_bp_max=age_q3+1.5*age_iqr\n",
        "\n",
        "bmi_bp_min=bmi_q1-1.5*bmi_iqr\n",
        "bmi_bp_max=bmi_q3+1.5*bmi_iqr\n",
        "\n",
        "children_bp_min=children_q1-1.5*children_iqr\n",
        "children_bp_max=children_q3+1.5*children_iqr\n",
        "\n",
        "charges_bp_min=charges_q1-1.5*charges_iqr\n",
        "charges_bp_max=charges_q3+1.5*charges_iqr\n",
        "\n",
        "print(age_bp_min)\n",
        "print(age_bp_max)\n",
        "print()\n",
        "print(bmi_bp_min)\n",
        "print(bmi_bp_max)\n",
        "print()\n",
        "print(children_bp_min)\n",
        "print(children_bp_max)\n",
        "print()\n",
        "print(charges_bp_min)\n",
        "print(charges_bp_max)"
      ],
      "metadata": {
        "colab": {
          "base_uri": "https://localhost:8080/"
        },
        "id": "GeEpT1TOQOs0",
        "outputId": "07abe0c8-9a00-4603-9f9c-110d4f749202"
      },
      "execution_count": 63,
      "outputs": [
        {
          "output_type": "stream",
          "name": "stdout",
          "text": [
            "-9.0\n",
            "87.0\n",
            "\n",
            "13.7\n",
            "47.290000000000006\n",
            "\n",
            "-3.0\n",
            "5.0\n",
            "\n",
            "-13109.1508975\n",
            "34489.350562499996\n"
          ]
        }
      ]
    },
    {
      "cell_type": "code",
      "source": [
        "#Applying the clipping value to handle outliers\n",
        "df[\"age\"]=df[\"age\"].clip(lower=age_bp_min,upper=age_bp_max)\n",
        "df[\"bmi\"]=df[\"bmi\"].clip(lower=bmi_bp_min,upper=bmi_bp_max)\n",
        "df[\"children\"]=df[\"children\"].clip(lower=children_bp_min,upper=children_bp_max)\n",
        "df[\"charges\"]=df[\"charges\"].clip(lower=charges_bp_min,upper=charges_bp_max)"
      ],
      "metadata": {
        "id": "I0ZZLRTaQ0W5"
      },
      "execution_count": 64,
      "outputs": []
    },
    {
      "cell_type": "code",
      "source": [
        "#Print minimum and maximum value for all continous data to ensure the clipping is applied correctly\n",
        "print(df[\"age\"].min())\n",
        "print(df[\"age\"].max())\n",
        "print(df[\"bmi\"].min())\n",
        "print(df[\"bmi\"].max())\n",
        "print(df[\"children\"].min())\n",
        "print(df[\"children\"].max())\n",
        "print(df[\"charges\"].min())\n",
        "print(df[\"charges\"].max())"
      ],
      "metadata": {
        "colab": {
          "base_uri": "https://localhost:8080/"
        },
        "id": "ZKuV9XMcRDNg",
        "outputId": "3a23b8e8-78b0-4905-e012-8cd68b7f3776"
      },
      "execution_count": 66,
      "outputs": [
        {
          "output_type": "stream",
          "name": "stdout",
          "text": [
            "18\n",
            "64\n",
            "15.96\n",
            "47.290000000000006\n",
            "0\n",
            "5\n",
            "1121.8739\n",
            "34489.350562499996\n"
          ]
        }
      ]
    },
    {
      "cell_type": "code",
      "source": [
        "#udated data converted into new csv file\n",
        "df.to_csv('processed_data.csv')"
      ],
      "metadata": {
        "id": "1lDSnWn8Q_CU"
      },
      "execution_count": 67,
      "outputs": []
    },
    {
      "cell_type": "markdown",
      "source": [
        "KNN"
      ],
      "metadata": {
        "id": "X5hIWhI_RTei"
      }
    },
    {
      "cell_type": "code",
      "source": [
        "# Encode categorical variables\n",
        "label_encoder = LabelEncoder()\n",
        "df['sex'] = label_encoder.fit_transform(df['sex'])\n",
        "df['smoker'] = label_encoder.fit_transform(df['smoker'])"
      ],
      "metadata": {
        "id": "d2dgGh_SRPAV"
      },
      "execution_count": 69,
      "outputs": []
    },
    {
      "cell_type": "code",
      "source": [
        "# Define the features and target variable\n",
        "X = df.drop('charges', axis=1)\n",
        "y = df['charges']"
      ],
      "metadata": {
        "id": "nK5nQOBmRocZ"
      },
      "execution_count": 71,
      "outputs": []
    },
    {
      "cell_type": "code",
      "source": [
        "# Split the dataset into training and testing sets\n",
        "X_train, X_test, y_train, y_test = train_test_split(X, y, test_size=0.2, random_state=42)"
      ],
      "metadata": {
        "id": "lHayrrSURqQ5"
      },
      "execution_count": 75,
      "outputs": []
    },
    {
      "cell_type": "code",
      "source": [
        "# Standardize the feature variablescategorical_features = ['region']  # Replace with your actual categorical columns\n",
        "numerical_features = X_train.select_dtypes(include=['number']).columns\n",
        "\n",
        "# Create a ColumnTransformer to apply different preprocessing to different columns\n",
        "preprocessor = ColumnTransformer(\n",
        "    transformers=[\n",
        "        ('num', StandardScaler(), numerical_features),\n",
        "        ('cat', OneHotEncoder(sparse_output=False, handle_unknown='ignore'), categorical_features) # handle_unknown='ignore' for unseen values in test set\n",
        "    ])\n",
        "\n",
        "# Fit and transform the training data\n",
        "X_train_scaled = preprocessor.fit_transform(X_train)\n",
        "\n",
        "# Transform the test data using the same preprocessor\n",
        "X_test_scaled = preprocessor.transform(X_test)\n",
        "\n",
        "# Convert the preprocessed data back to DataFrames for easier handling\n",
        "X_train_scaled = pd.DataFrame(X_train_scaled, columns=preprocessor.get_feature_names_out())\n",
        "X_test_scaled = pd.DataFrame(X_test_scaled, columns=preprocessor.get_feature_names_out())"
      ],
      "metadata": {
        "id": "PsCScOM5Rzo4"
      },
      "execution_count": 87,
      "outputs": []
    },
    {
      "cell_type": "code",
      "source": [
        "# Initialize and train the KNN regressor\n",
        "knn = KNeighborsRegressor(n_neighbors=5)\n",
        "knn.fit(X_train_scaled, y_train)"
      ],
      "metadata": {
        "colab": {
          "base_uri": "https://localhost:8080/",
          "height": 80
        },
        "id": "kPfr8ZpzYaUQ",
        "outputId": "16a729fe-2255-47b6-e541-064b8b8f1425"
      },
      "execution_count": 88,
      "outputs": [
        {
          "output_type": "execute_result",
          "data": {
            "text/plain": [
              "KNeighborsRegressor()"
            ],
            "text/html": [
              "<style>#sk-container-id-1 {\n",
              "  /* Definition of color scheme common for light and dark mode */\n",
              "  --sklearn-color-text: black;\n",
              "  --sklearn-color-line: gray;\n",
              "  /* Definition of color scheme for unfitted estimators */\n",
              "  --sklearn-color-unfitted-level-0: #fff5e6;\n",
              "  --sklearn-color-unfitted-level-1: #f6e4d2;\n",
              "  --sklearn-color-unfitted-level-2: #ffe0b3;\n",
              "  --sklearn-color-unfitted-level-3: chocolate;\n",
              "  /* Definition of color scheme for fitted estimators */\n",
              "  --sklearn-color-fitted-level-0: #f0f8ff;\n",
              "  --sklearn-color-fitted-level-1: #d4ebff;\n",
              "  --sklearn-color-fitted-level-2: #b3dbfd;\n",
              "  --sklearn-color-fitted-level-3: cornflowerblue;\n",
              "\n",
              "  /* Specific color for light theme */\n",
              "  --sklearn-color-text-on-default-background: var(--sg-text-color, var(--theme-code-foreground, var(--jp-content-font-color1, black)));\n",
              "  --sklearn-color-background: var(--sg-background-color, var(--theme-background, var(--jp-layout-color0, white)));\n",
              "  --sklearn-color-border-box: var(--sg-text-color, var(--theme-code-foreground, var(--jp-content-font-color1, black)));\n",
              "  --sklearn-color-icon: #696969;\n",
              "\n",
              "  @media (prefers-color-scheme: dark) {\n",
              "    /* Redefinition of color scheme for dark theme */\n",
              "    --sklearn-color-text-on-default-background: var(--sg-text-color, var(--theme-code-foreground, var(--jp-content-font-color1, white)));\n",
              "    --sklearn-color-background: var(--sg-background-color, var(--theme-background, var(--jp-layout-color0, #111)));\n",
              "    --sklearn-color-border-box: var(--sg-text-color, var(--theme-code-foreground, var(--jp-content-font-color1, white)));\n",
              "    --sklearn-color-icon: #878787;\n",
              "  }\n",
              "}\n",
              "\n",
              "#sk-container-id-1 {\n",
              "  color: var(--sklearn-color-text);\n",
              "}\n",
              "\n",
              "#sk-container-id-1 pre {\n",
              "  padding: 0;\n",
              "}\n",
              "\n",
              "#sk-container-id-1 input.sk-hidden--visually {\n",
              "  border: 0;\n",
              "  clip: rect(1px 1px 1px 1px);\n",
              "  clip: rect(1px, 1px, 1px, 1px);\n",
              "  height: 1px;\n",
              "  margin: -1px;\n",
              "  overflow: hidden;\n",
              "  padding: 0;\n",
              "  position: absolute;\n",
              "  width: 1px;\n",
              "}\n",
              "\n",
              "#sk-container-id-1 div.sk-dashed-wrapped {\n",
              "  border: 1px dashed var(--sklearn-color-line);\n",
              "  margin: 0 0.4em 0.5em 0.4em;\n",
              "  box-sizing: border-box;\n",
              "  padding-bottom: 0.4em;\n",
              "  background-color: var(--sklearn-color-background);\n",
              "}\n",
              "\n",
              "#sk-container-id-1 div.sk-container {\n",
              "  /* jupyter's `normalize.less` sets `[hidden] { display: none; }`\n",
              "     but bootstrap.min.css set `[hidden] { display: none !important; }`\n",
              "     so we also need the `!important` here to be able to override the\n",
              "     default hidden behavior on the sphinx rendered scikit-learn.org.\n",
              "     See: https://github.com/scikit-learn/scikit-learn/issues/21755 */\n",
              "  display: inline-block !important;\n",
              "  position: relative;\n",
              "}\n",
              "\n",
              "#sk-container-id-1 div.sk-text-repr-fallback {\n",
              "  display: none;\n",
              "}\n",
              "\n",
              "div.sk-parallel-item,\n",
              "div.sk-serial,\n",
              "div.sk-item {\n",
              "  /* draw centered vertical line to link estimators */\n",
              "  background-image: linear-gradient(var(--sklearn-color-text-on-default-background), var(--sklearn-color-text-on-default-background));\n",
              "  background-size: 2px 100%;\n",
              "  background-repeat: no-repeat;\n",
              "  background-position: center center;\n",
              "}\n",
              "\n",
              "/* Parallel-specific style estimator block */\n",
              "\n",
              "#sk-container-id-1 div.sk-parallel-item::after {\n",
              "  content: \"\";\n",
              "  width: 100%;\n",
              "  border-bottom: 2px solid var(--sklearn-color-text-on-default-background);\n",
              "  flex-grow: 1;\n",
              "}\n",
              "\n",
              "#sk-container-id-1 div.sk-parallel {\n",
              "  display: flex;\n",
              "  align-items: stretch;\n",
              "  justify-content: center;\n",
              "  background-color: var(--sklearn-color-background);\n",
              "  position: relative;\n",
              "}\n",
              "\n",
              "#sk-container-id-1 div.sk-parallel-item {\n",
              "  display: flex;\n",
              "  flex-direction: column;\n",
              "}\n",
              "\n",
              "#sk-container-id-1 div.sk-parallel-item:first-child::after {\n",
              "  align-self: flex-end;\n",
              "  width: 50%;\n",
              "}\n",
              "\n",
              "#sk-container-id-1 div.sk-parallel-item:last-child::after {\n",
              "  align-self: flex-start;\n",
              "  width: 50%;\n",
              "}\n",
              "\n",
              "#sk-container-id-1 div.sk-parallel-item:only-child::after {\n",
              "  width: 0;\n",
              "}\n",
              "\n",
              "/* Serial-specific style estimator block */\n",
              "\n",
              "#sk-container-id-1 div.sk-serial {\n",
              "  display: flex;\n",
              "  flex-direction: column;\n",
              "  align-items: center;\n",
              "  background-color: var(--sklearn-color-background);\n",
              "  padding-right: 1em;\n",
              "  padding-left: 1em;\n",
              "}\n",
              "\n",
              "\n",
              "/* Toggleable style: style used for estimator/Pipeline/ColumnTransformer box that is\n",
              "clickable and can be expanded/collapsed.\n",
              "- Pipeline and ColumnTransformer use this feature and define the default style\n",
              "- Estimators will overwrite some part of the style using the `sk-estimator` class\n",
              "*/\n",
              "\n",
              "/* Pipeline and ColumnTransformer style (default) */\n",
              "\n",
              "#sk-container-id-1 div.sk-toggleable {\n",
              "  /* Default theme specific background. It is overwritten whether we have a\n",
              "  specific estimator or a Pipeline/ColumnTransformer */\n",
              "  background-color: var(--sklearn-color-background);\n",
              "}\n",
              "\n",
              "/* Toggleable label */\n",
              "#sk-container-id-1 label.sk-toggleable__label {\n",
              "  cursor: pointer;\n",
              "  display: block;\n",
              "  width: 100%;\n",
              "  margin-bottom: 0;\n",
              "  padding: 0.5em;\n",
              "  box-sizing: border-box;\n",
              "  text-align: center;\n",
              "}\n",
              "\n",
              "#sk-container-id-1 label.sk-toggleable__label-arrow:before {\n",
              "  /* Arrow on the left of the label */\n",
              "  content: \"▸\";\n",
              "  float: left;\n",
              "  margin-right: 0.25em;\n",
              "  color: var(--sklearn-color-icon);\n",
              "}\n",
              "\n",
              "#sk-container-id-1 label.sk-toggleable__label-arrow:hover:before {\n",
              "  color: var(--sklearn-color-text);\n",
              "}\n",
              "\n",
              "/* Toggleable content - dropdown */\n",
              "\n",
              "#sk-container-id-1 div.sk-toggleable__content {\n",
              "  max-height: 0;\n",
              "  max-width: 0;\n",
              "  overflow: hidden;\n",
              "  text-align: left;\n",
              "  /* unfitted */\n",
              "  background-color: var(--sklearn-color-unfitted-level-0);\n",
              "}\n",
              "\n",
              "#sk-container-id-1 div.sk-toggleable__content.fitted {\n",
              "  /* fitted */\n",
              "  background-color: var(--sklearn-color-fitted-level-0);\n",
              "}\n",
              "\n",
              "#sk-container-id-1 div.sk-toggleable__content pre {\n",
              "  margin: 0.2em;\n",
              "  border-radius: 0.25em;\n",
              "  color: var(--sklearn-color-text);\n",
              "  /* unfitted */\n",
              "  background-color: var(--sklearn-color-unfitted-level-0);\n",
              "}\n",
              "\n",
              "#sk-container-id-1 div.sk-toggleable__content.fitted pre {\n",
              "  /* unfitted */\n",
              "  background-color: var(--sklearn-color-fitted-level-0);\n",
              "}\n",
              "\n",
              "#sk-container-id-1 input.sk-toggleable__control:checked~div.sk-toggleable__content {\n",
              "  /* Expand drop-down */\n",
              "  max-height: 200px;\n",
              "  max-width: 100%;\n",
              "  overflow: auto;\n",
              "}\n",
              "\n",
              "#sk-container-id-1 input.sk-toggleable__control:checked~label.sk-toggleable__label-arrow:before {\n",
              "  content: \"▾\";\n",
              "}\n",
              "\n",
              "/* Pipeline/ColumnTransformer-specific style */\n",
              "\n",
              "#sk-container-id-1 div.sk-label input.sk-toggleable__control:checked~label.sk-toggleable__label {\n",
              "  color: var(--sklearn-color-text);\n",
              "  background-color: var(--sklearn-color-unfitted-level-2);\n",
              "}\n",
              "\n",
              "#sk-container-id-1 div.sk-label.fitted input.sk-toggleable__control:checked~label.sk-toggleable__label {\n",
              "  background-color: var(--sklearn-color-fitted-level-2);\n",
              "}\n",
              "\n",
              "/* Estimator-specific style */\n",
              "\n",
              "/* Colorize estimator box */\n",
              "#sk-container-id-1 div.sk-estimator input.sk-toggleable__control:checked~label.sk-toggleable__label {\n",
              "  /* unfitted */\n",
              "  background-color: var(--sklearn-color-unfitted-level-2);\n",
              "}\n",
              "\n",
              "#sk-container-id-1 div.sk-estimator.fitted input.sk-toggleable__control:checked~label.sk-toggleable__label {\n",
              "  /* fitted */\n",
              "  background-color: var(--sklearn-color-fitted-level-2);\n",
              "}\n",
              "\n",
              "#sk-container-id-1 div.sk-label label.sk-toggleable__label,\n",
              "#sk-container-id-1 div.sk-label label {\n",
              "  /* The background is the default theme color */\n",
              "  color: var(--sklearn-color-text-on-default-background);\n",
              "}\n",
              "\n",
              "/* On hover, darken the color of the background */\n",
              "#sk-container-id-1 div.sk-label:hover label.sk-toggleable__label {\n",
              "  color: var(--sklearn-color-text);\n",
              "  background-color: var(--sklearn-color-unfitted-level-2);\n",
              "}\n",
              "\n",
              "/* Label box, darken color on hover, fitted */\n",
              "#sk-container-id-1 div.sk-label.fitted:hover label.sk-toggleable__label.fitted {\n",
              "  color: var(--sklearn-color-text);\n",
              "  background-color: var(--sklearn-color-fitted-level-2);\n",
              "}\n",
              "\n",
              "/* Estimator label */\n",
              "\n",
              "#sk-container-id-1 div.sk-label label {\n",
              "  font-family: monospace;\n",
              "  font-weight: bold;\n",
              "  display: inline-block;\n",
              "  line-height: 1.2em;\n",
              "}\n",
              "\n",
              "#sk-container-id-1 div.sk-label-container {\n",
              "  text-align: center;\n",
              "}\n",
              "\n",
              "/* Estimator-specific */\n",
              "#sk-container-id-1 div.sk-estimator {\n",
              "  font-family: monospace;\n",
              "  border: 1px dotted var(--sklearn-color-border-box);\n",
              "  border-radius: 0.25em;\n",
              "  box-sizing: border-box;\n",
              "  margin-bottom: 0.5em;\n",
              "  /* unfitted */\n",
              "  background-color: var(--sklearn-color-unfitted-level-0);\n",
              "}\n",
              "\n",
              "#sk-container-id-1 div.sk-estimator.fitted {\n",
              "  /* fitted */\n",
              "  background-color: var(--sklearn-color-fitted-level-0);\n",
              "}\n",
              "\n",
              "/* on hover */\n",
              "#sk-container-id-1 div.sk-estimator:hover {\n",
              "  /* unfitted */\n",
              "  background-color: var(--sklearn-color-unfitted-level-2);\n",
              "}\n",
              "\n",
              "#sk-container-id-1 div.sk-estimator.fitted:hover {\n",
              "  /* fitted */\n",
              "  background-color: var(--sklearn-color-fitted-level-2);\n",
              "}\n",
              "\n",
              "/* Specification for estimator info (e.g. \"i\" and \"?\") */\n",
              "\n",
              "/* Common style for \"i\" and \"?\" */\n",
              "\n",
              ".sk-estimator-doc-link,\n",
              "a:link.sk-estimator-doc-link,\n",
              "a:visited.sk-estimator-doc-link {\n",
              "  float: right;\n",
              "  font-size: smaller;\n",
              "  line-height: 1em;\n",
              "  font-family: monospace;\n",
              "  background-color: var(--sklearn-color-background);\n",
              "  border-radius: 1em;\n",
              "  height: 1em;\n",
              "  width: 1em;\n",
              "  text-decoration: none !important;\n",
              "  margin-left: 1ex;\n",
              "  /* unfitted */\n",
              "  border: var(--sklearn-color-unfitted-level-1) 1pt solid;\n",
              "  color: var(--sklearn-color-unfitted-level-1);\n",
              "}\n",
              "\n",
              ".sk-estimator-doc-link.fitted,\n",
              "a:link.sk-estimator-doc-link.fitted,\n",
              "a:visited.sk-estimator-doc-link.fitted {\n",
              "  /* fitted */\n",
              "  border: var(--sklearn-color-fitted-level-1) 1pt solid;\n",
              "  color: var(--sklearn-color-fitted-level-1);\n",
              "}\n",
              "\n",
              "/* On hover */\n",
              "div.sk-estimator:hover .sk-estimator-doc-link:hover,\n",
              ".sk-estimator-doc-link:hover,\n",
              "div.sk-label-container:hover .sk-estimator-doc-link:hover,\n",
              ".sk-estimator-doc-link:hover {\n",
              "  /* unfitted */\n",
              "  background-color: var(--sklearn-color-unfitted-level-3);\n",
              "  color: var(--sklearn-color-background);\n",
              "  text-decoration: none;\n",
              "}\n",
              "\n",
              "div.sk-estimator.fitted:hover .sk-estimator-doc-link.fitted:hover,\n",
              ".sk-estimator-doc-link.fitted:hover,\n",
              "div.sk-label-container:hover .sk-estimator-doc-link.fitted:hover,\n",
              ".sk-estimator-doc-link.fitted:hover {\n",
              "  /* fitted */\n",
              "  background-color: var(--sklearn-color-fitted-level-3);\n",
              "  color: var(--sklearn-color-background);\n",
              "  text-decoration: none;\n",
              "}\n",
              "\n",
              "/* Span, style for the box shown on hovering the info icon */\n",
              ".sk-estimator-doc-link span {\n",
              "  display: none;\n",
              "  z-index: 9999;\n",
              "  position: relative;\n",
              "  font-weight: normal;\n",
              "  right: .2ex;\n",
              "  padding: .5ex;\n",
              "  margin: .5ex;\n",
              "  width: min-content;\n",
              "  min-width: 20ex;\n",
              "  max-width: 50ex;\n",
              "  color: var(--sklearn-color-text);\n",
              "  box-shadow: 2pt 2pt 4pt #999;\n",
              "  /* unfitted */\n",
              "  background: var(--sklearn-color-unfitted-level-0);\n",
              "  border: .5pt solid var(--sklearn-color-unfitted-level-3);\n",
              "}\n",
              "\n",
              ".sk-estimator-doc-link.fitted span {\n",
              "  /* fitted */\n",
              "  background: var(--sklearn-color-fitted-level-0);\n",
              "  border: var(--sklearn-color-fitted-level-3);\n",
              "}\n",
              "\n",
              ".sk-estimator-doc-link:hover span {\n",
              "  display: block;\n",
              "}\n",
              "\n",
              "/* \"?\"-specific style due to the `<a>` HTML tag */\n",
              "\n",
              "#sk-container-id-1 a.estimator_doc_link {\n",
              "  float: right;\n",
              "  font-size: 1rem;\n",
              "  line-height: 1em;\n",
              "  font-family: monospace;\n",
              "  background-color: var(--sklearn-color-background);\n",
              "  border-radius: 1rem;\n",
              "  height: 1rem;\n",
              "  width: 1rem;\n",
              "  text-decoration: none;\n",
              "  /* unfitted */\n",
              "  color: var(--sklearn-color-unfitted-level-1);\n",
              "  border: var(--sklearn-color-unfitted-level-1) 1pt solid;\n",
              "}\n",
              "\n",
              "#sk-container-id-1 a.estimator_doc_link.fitted {\n",
              "  /* fitted */\n",
              "  border: var(--sklearn-color-fitted-level-1) 1pt solid;\n",
              "  color: var(--sklearn-color-fitted-level-1);\n",
              "}\n",
              "\n",
              "/* On hover */\n",
              "#sk-container-id-1 a.estimator_doc_link:hover {\n",
              "  /* unfitted */\n",
              "  background-color: var(--sklearn-color-unfitted-level-3);\n",
              "  color: var(--sklearn-color-background);\n",
              "  text-decoration: none;\n",
              "}\n",
              "\n",
              "#sk-container-id-1 a.estimator_doc_link.fitted:hover {\n",
              "  /* fitted */\n",
              "  background-color: var(--sklearn-color-fitted-level-3);\n",
              "}\n",
              "</style><div id=\"sk-container-id-1\" class=\"sk-top-container\"><div class=\"sk-text-repr-fallback\"><pre>KNeighborsRegressor()</pre><b>In a Jupyter environment, please rerun this cell to show the HTML representation or trust the notebook. <br />On GitHub, the HTML representation is unable to render, please try loading this page with nbviewer.org.</b></div><div class=\"sk-container\" hidden><div class=\"sk-item\"><div class=\"sk-estimator fitted sk-toggleable\"><input class=\"sk-toggleable__control sk-hidden--visually\" id=\"sk-estimator-id-1\" type=\"checkbox\" checked><label for=\"sk-estimator-id-1\" class=\"sk-toggleable__label fitted sk-toggleable__label-arrow fitted\">&nbsp;&nbsp;KNeighborsRegressor<a class=\"sk-estimator-doc-link fitted\" rel=\"noreferrer\" target=\"_blank\" href=\"https://scikit-learn.org/1.5/modules/generated/sklearn.neighbors.KNeighborsRegressor.html\">?<span>Documentation for KNeighborsRegressor</span></a><span class=\"sk-estimator-doc-link fitted\">i<span>Fitted</span></span></label><div class=\"sk-toggleable__content fitted\"><pre>KNeighborsRegressor()</pre></div> </div></div></div></div>"
            ]
          },
          "metadata": {},
          "execution_count": 88
        }
      ]
    },
    {
      "cell_type": "code",
      "source": [
        "# Predict the charges for the test set\n",
        "y_pred = knn.predict(X_test_scaled)"
      ],
      "metadata": {
        "id": "QE37R_LeYcbT"
      },
      "execution_count": 92,
      "outputs": []
    },
    {
      "cell_type": "code",
      "source": [
        "# Evaluate the model\n",
        "mse = mean_squared_error(y_test, y_pred)\n",
        "rmse = np.sqrt(mse)\n",
        "print(f'Root Mean Squared Error (RMSE): {rmse:.2f}')"
      ],
      "metadata": {
        "colab": {
          "base_uri": "https://localhost:8080/"
        },
        "id": "ezjwmyJAZmRg",
        "outputId": "3e03ef5f-739b-4e52-c8a5-4326456d1add"
      },
      "execution_count": 90,
      "outputs": [
        {
          "output_type": "stream",
          "name": "stdout",
          "text": [
            "Root Mean Squared Error (RMSE): 5054.57\n"
          ]
        }
      ]
    },
    {
      "cell_type": "markdown",
      "source": [
        "Dummy Variable"
      ],
      "metadata": {
        "id": "TWJWwkv5ZxU1"
      }
    },
    {
      "cell_type": "code",
      "source": [
        "#Identify the number of missing value before introducing dummy variable\n",
        "print(\"Size of the data before dropping the missing values: \", len(df))\n",
        "Insurance_Charge = df.dropna()\n",
        "print(\"Size of the data after dropping the missing values: \", len(df))"
      ],
      "metadata": {
        "colab": {
          "base_uri": "https://localhost:8080/"
        },
        "id": "wLj7GuslZoeV",
        "outputId": "1680d839-8bbf-476e-e514-d555f1c53972"
      },
      "execution_count": 94,
      "outputs": [
        {
          "output_type": "stream",
          "name": "stdout",
          "text": [
            "Size of the data before dropping the missing values:  1338\n",
            "Size of the data after dropping the missing values:  1338\n"
          ]
        }
      ]
    },
    {
      "cell_type": "code",
      "source": [
        "#identify the unique value of region to introduce the dummy variable\n",
        "print(\"List of the columns: \")\n",
        "print(Insurance_Charge.columns)\n",
        "\n",
        "print('')\n",
        "\n",
        "print(\"List of levels in Age: \")\n",
        "print(Insurance_Charge[\"region\"].unique())"
      ],
      "metadata": {
        "colab": {
          "base_uri": "https://localhost:8080/"
        },
        "id": "vGvSBlajZ08K",
        "outputId": "7fe481f2-21fc-43f2-a821-1cf3efcdca61"
      },
      "execution_count": 95,
      "outputs": [
        {
          "output_type": "stream",
          "name": "stdout",
          "text": [
            "List of the columns: \n",
            "Index(['age', 'sex', 'bmi', 'children', 'smoker', 'region', 'charges'], dtype='object')\n",
            "\n",
            "List of levels in Age: \n",
            "['southwest' 'southeast' 'northwest' 'northeast']\n"
          ]
        }
      ]
    },
    {
      "cell_type": "code",
      "source": [
        "#inroduce the dummy variable for region and remove it from the dataset\n",
        "region_dummies = pd.get_dummies(df['region'], prefix='region', drop_first=True) # remove the first column\n",
        "df = pd.concat([df, region_dummies], axis=1)\n",
        "df = df.drop(columns='region')"
      ],
      "metadata": {
        "id": "vcoRBF9QaAp3"
      },
      "execution_count": 96,
      "outputs": []
    },
    {
      "cell_type": "code",
      "source": [
        "display(df.head(5))\n",
        "display(df.tail(5))"
      ],
      "metadata": {
        "colab": {
          "base_uri": "https://localhost:8080/",
          "height": 395
        },
        "id": "gxpxBIJraFzR",
        "outputId": "4a0e933f-a6d2-42c5-96c7-5e71ac14d476"
      },
      "execution_count": 101,
      "outputs": [
        {
          "output_type": "display_data",
          "data": {
            "text/plain": [
              "   age  sex     bmi  children  smoker      charges  region_northwest  \\\n",
              "0   19    0  27.900         0       1  16884.92400             False   \n",
              "1   18    1  33.770         1       0   1725.55230             False   \n",
              "2   28    1  33.000         3       0   4449.46200             False   \n",
              "3   33    1  22.705         0       0  21984.47061              True   \n",
              "4   32    1  28.880         0       0   3866.85520              True   \n",
              "\n",
              "   region_southeast  region_southwest  \n",
              "0             False              True  \n",
              "1              True             False  \n",
              "2              True             False  \n",
              "3             False             False  \n",
              "4             False             False  "
            ],
            "text/html": [
              "\n",
              "  <div id=\"df-73f12e10-e3a7-4392-a943-0ca74f5fa4f9\" class=\"colab-df-container\">\n",
              "    <div>\n",
              "<style scoped>\n",
              "    .dataframe tbody tr th:only-of-type {\n",
              "        vertical-align: middle;\n",
              "    }\n",
              "\n",
              "    .dataframe tbody tr th {\n",
              "        vertical-align: top;\n",
              "    }\n",
              "\n",
              "    .dataframe thead th {\n",
              "        text-align: right;\n",
              "    }\n",
              "</style>\n",
              "<table border=\"1\" class=\"dataframe\">\n",
              "  <thead>\n",
              "    <tr style=\"text-align: right;\">\n",
              "      <th></th>\n",
              "      <th>age</th>\n",
              "      <th>sex</th>\n",
              "      <th>bmi</th>\n",
              "      <th>children</th>\n",
              "      <th>smoker</th>\n",
              "      <th>charges</th>\n",
              "      <th>region_northwest</th>\n",
              "      <th>region_southeast</th>\n",
              "      <th>region_southwest</th>\n",
              "    </tr>\n",
              "  </thead>\n",
              "  <tbody>\n",
              "    <tr>\n",
              "      <th>0</th>\n",
              "      <td>19</td>\n",
              "      <td>0</td>\n",
              "      <td>27.900</td>\n",
              "      <td>0</td>\n",
              "      <td>1</td>\n",
              "      <td>16884.92400</td>\n",
              "      <td>False</td>\n",
              "      <td>False</td>\n",
              "      <td>True</td>\n",
              "    </tr>\n",
              "    <tr>\n",
              "      <th>1</th>\n",
              "      <td>18</td>\n",
              "      <td>1</td>\n",
              "      <td>33.770</td>\n",
              "      <td>1</td>\n",
              "      <td>0</td>\n",
              "      <td>1725.55230</td>\n",
              "      <td>False</td>\n",
              "      <td>True</td>\n",
              "      <td>False</td>\n",
              "    </tr>\n",
              "    <tr>\n",
              "      <th>2</th>\n",
              "      <td>28</td>\n",
              "      <td>1</td>\n",
              "      <td>33.000</td>\n",
              "      <td>3</td>\n",
              "      <td>0</td>\n",
              "      <td>4449.46200</td>\n",
              "      <td>False</td>\n",
              "      <td>True</td>\n",
              "      <td>False</td>\n",
              "    </tr>\n",
              "    <tr>\n",
              "      <th>3</th>\n",
              "      <td>33</td>\n",
              "      <td>1</td>\n",
              "      <td>22.705</td>\n",
              "      <td>0</td>\n",
              "      <td>0</td>\n",
              "      <td>21984.47061</td>\n",
              "      <td>True</td>\n",
              "      <td>False</td>\n",
              "      <td>False</td>\n",
              "    </tr>\n",
              "    <tr>\n",
              "      <th>4</th>\n",
              "      <td>32</td>\n",
              "      <td>1</td>\n",
              "      <td>28.880</td>\n",
              "      <td>0</td>\n",
              "      <td>0</td>\n",
              "      <td>3866.85520</td>\n",
              "      <td>True</td>\n",
              "      <td>False</td>\n",
              "      <td>False</td>\n",
              "    </tr>\n",
              "  </tbody>\n",
              "</table>\n",
              "</div>\n",
              "    <div class=\"colab-df-buttons\">\n",
              "\n",
              "  <div class=\"colab-df-container\">\n",
              "    <button class=\"colab-df-convert\" onclick=\"convertToInteractive('df-73f12e10-e3a7-4392-a943-0ca74f5fa4f9')\"\n",
              "            title=\"Convert this dataframe to an interactive table.\"\n",
              "            style=\"display:none;\">\n",
              "\n",
              "  <svg xmlns=\"http://www.w3.org/2000/svg\" height=\"24px\" viewBox=\"0 -960 960 960\">\n",
              "    <path d=\"M120-120v-720h720v720H120Zm60-500h600v-160H180v160Zm220 220h160v-160H400v160Zm0 220h160v-160H400v160ZM180-400h160v-160H180v160Zm440 0h160v-160H620v160ZM180-180h160v-160H180v160Zm440 0h160v-160H620v160Z\"/>\n",
              "  </svg>\n",
              "    </button>\n",
              "\n",
              "  <style>\n",
              "    .colab-df-container {\n",
              "      display:flex;\n",
              "      gap: 12px;\n",
              "    }\n",
              "\n",
              "    .colab-df-convert {\n",
              "      background-color: #E8F0FE;\n",
              "      border: none;\n",
              "      border-radius: 50%;\n",
              "      cursor: pointer;\n",
              "      display: none;\n",
              "      fill: #1967D2;\n",
              "      height: 32px;\n",
              "      padding: 0 0 0 0;\n",
              "      width: 32px;\n",
              "    }\n",
              "\n",
              "    .colab-df-convert:hover {\n",
              "      background-color: #E2EBFA;\n",
              "      box-shadow: 0px 1px 2px rgba(60, 64, 67, 0.3), 0px 1px 3px 1px rgba(60, 64, 67, 0.15);\n",
              "      fill: #174EA6;\n",
              "    }\n",
              "\n",
              "    .colab-df-buttons div {\n",
              "      margin-bottom: 4px;\n",
              "    }\n",
              "\n",
              "    [theme=dark] .colab-df-convert {\n",
              "      background-color: #3B4455;\n",
              "      fill: #D2E3FC;\n",
              "    }\n",
              "\n",
              "    [theme=dark] .colab-df-convert:hover {\n",
              "      background-color: #434B5C;\n",
              "      box-shadow: 0px 1px 3px 1px rgba(0, 0, 0, 0.15);\n",
              "      filter: drop-shadow(0px 1px 2px rgba(0, 0, 0, 0.3));\n",
              "      fill: #FFFFFF;\n",
              "    }\n",
              "  </style>\n",
              "\n",
              "    <script>\n",
              "      const buttonEl =\n",
              "        document.querySelector('#df-73f12e10-e3a7-4392-a943-0ca74f5fa4f9 button.colab-df-convert');\n",
              "      buttonEl.style.display =\n",
              "        google.colab.kernel.accessAllowed ? 'block' : 'none';\n",
              "\n",
              "      async function convertToInteractive(key) {\n",
              "        const element = document.querySelector('#df-73f12e10-e3a7-4392-a943-0ca74f5fa4f9');\n",
              "        const dataTable =\n",
              "          await google.colab.kernel.invokeFunction('convertToInteractive',\n",
              "                                                    [key], {});\n",
              "        if (!dataTable) return;\n",
              "\n",
              "        const docLinkHtml = 'Like what you see? Visit the ' +\n",
              "          '<a target=\"_blank\" href=https://colab.research.google.com/notebooks/data_table.ipynb>data table notebook</a>'\n",
              "          + ' to learn more about interactive tables.';\n",
              "        element.innerHTML = '';\n",
              "        dataTable['output_type'] = 'display_data';\n",
              "        await google.colab.output.renderOutput(dataTable, element);\n",
              "        const docLink = document.createElement('div');\n",
              "        docLink.innerHTML = docLinkHtml;\n",
              "        element.appendChild(docLink);\n",
              "      }\n",
              "    </script>\n",
              "  </div>\n",
              "\n",
              "\n",
              "<div id=\"df-c8502344-564e-4094-b4a7-9e22b3632d8c\">\n",
              "  <button class=\"colab-df-quickchart\" onclick=\"quickchart('df-c8502344-564e-4094-b4a7-9e22b3632d8c')\"\n",
              "            title=\"Suggest charts\"\n",
              "            style=\"display:none;\">\n",
              "\n",
              "<svg xmlns=\"http://www.w3.org/2000/svg\" height=\"24px\"viewBox=\"0 0 24 24\"\n",
              "     width=\"24px\">\n",
              "    <g>\n",
              "        <path d=\"M19 3H5c-1.1 0-2 .9-2 2v14c0 1.1.9 2 2 2h14c1.1 0 2-.9 2-2V5c0-1.1-.9-2-2-2zM9 17H7v-7h2v7zm4 0h-2V7h2v10zm4 0h-2v-4h2v4z\"/>\n",
              "    </g>\n",
              "</svg>\n",
              "  </button>\n",
              "\n",
              "<style>\n",
              "  .colab-df-quickchart {\n",
              "      --bg-color: #E8F0FE;\n",
              "      --fill-color: #1967D2;\n",
              "      --hover-bg-color: #E2EBFA;\n",
              "      --hover-fill-color: #174EA6;\n",
              "      --disabled-fill-color: #AAA;\n",
              "      --disabled-bg-color: #DDD;\n",
              "  }\n",
              "\n",
              "  [theme=dark] .colab-df-quickchart {\n",
              "      --bg-color: #3B4455;\n",
              "      --fill-color: #D2E3FC;\n",
              "      --hover-bg-color: #434B5C;\n",
              "      --hover-fill-color: #FFFFFF;\n",
              "      --disabled-bg-color: #3B4455;\n",
              "      --disabled-fill-color: #666;\n",
              "  }\n",
              "\n",
              "  .colab-df-quickchart {\n",
              "    background-color: var(--bg-color);\n",
              "    border: none;\n",
              "    border-radius: 50%;\n",
              "    cursor: pointer;\n",
              "    display: none;\n",
              "    fill: var(--fill-color);\n",
              "    height: 32px;\n",
              "    padding: 0;\n",
              "    width: 32px;\n",
              "  }\n",
              "\n",
              "  .colab-df-quickchart:hover {\n",
              "    background-color: var(--hover-bg-color);\n",
              "    box-shadow: 0 1px 2px rgba(60, 64, 67, 0.3), 0 1px 3px 1px rgba(60, 64, 67, 0.15);\n",
              "    fill: var(--button-hover-fill-color);\n",
              "  }\n",
              "\n",
              "  .colab-df-quickchart-complete:disabled,\n",
              "  .colab-df-quickchart-complete:disabled:hover {\n",
              "    background-color: var(--disabled-bg-color);\n",
              "    fill: var(--disabled-fill-color);\n",
              "    box-shadow: none;\n",
              "  }\n",
              "\n",
              "  .colab-df-spinner {\n",
              "    border: 2px solid var(--fill-color);\n",
              "    border-color: transparent;\n",
              "    border-bottom-color: var(--fill-color);\n",
              "    animation:\n",
              "      spin 1s steps(1) infinite;\n",
              "  }\n",
              "\n",
              "  @keyframes spin {\n",
              "    0% {\n",
              "      border-color: transparent;\n",
              "      border-bottom-color: var(--fill-color);\n",
              "      border-left-color: var(--fill-color);\n",
              "    }\n",
              "    20% {\n",
              "      border-color: transparent;\n",
              "      border-left-color: var(--fill-color);\n",
              "      border-top-color: var(--fill-color);\n",
              "    }\n",
              "    30% {\n",
              "      border-color: transparent;\n",
              "      border-left-color: var(--fill-color);\n",
              "      border-top-color: var(--fill-color);\n",
              "      border-right-color: var(--fill-color);\n",
              "    }\n",
              "    40% {\n",
              "      border-color: transparent;\n",
              "      border-right-color: var(--fill-color);\n",
              "      border-top-color: var(--fill-color);\n",
              "    }\n",
              "    60% {\n",
              "      border-color: transparent;\n",
              "      border-right-color: var(--fill-color);\n",
              "    }\n",
              "    80% {\n",
              "      border-color: transparent;\n",
              "      border-right-color: var(--fill-color);\n",
              "      border-bottom-color: var(--fill-color);\n",
              "    }\n",
              "    90% {\n",
              "      border-color: transparent;\n",
              "      border-bottom-color: var(--fill-color);\n",
              "    }\n",
              "  }\n",
              "</style>\n",
              "\n",
              "  <script>\n",
              "    async function quickchart(key) {\n",
              "      const quickchartButtonEl =\n",
              "        document.querySelector('#' + key + ' button');\n",
              "      quickchartButtonEl.disabled = true;  // To prevent multiple clicks.\n",
              "      quickchartButtonEl.classList.add('colab-df-spinner');\n",
              "      try {\n",
              "        const charts = await google.colab.kernel.invokeFunction(\n",
              "            'suggestCharts', [key], {});\n",
              "      } catch (error) {\n",
              "        console.error('Error during call to suggestCharts:', error);\n",
              "      }\n",
              "      quickchartButtonEl.classList.remove('colab-df-spinner');\n",
              "      quickchartButtonEl.classList.add('colab-df-quickchart-complete');\n",
              "    }\n",
              "    (() => {\n",
              "      let quickchartButtonEl =\n",
              "        document.querySelector('#df-c8502344-564e-4094-b4a7-9e22b3632d8c button');\n",
              "      quickchartButtonEl.style.display =\n",
              "        google.colab.kernel.accessAllowed ? 'block' : 'none';\n",
              "    })();\n",
              "  </script>\n",
              "</div>\n",
              "\n",
              "    </div>\n",
              "  </div>\n"
            ],
            "application/vnd.google.colaboratory.intrinsic+json": {
              "type": "dataframe",
              "summary": "{\n  \"name\": \"display(df\",\n  \"rows\": 5,\n  \"fields\": [\n    {\n      \"column\": \"age\",\n      \"properties\": {\n        \"dtype\": \"number\",\n        \"std\": 7,\n        \"min\": 18,\n        \"max\": 33,\n        \"num_unique_values\": 5,\n        \"samples\": [\n          18,\n          32,\n          28\n        ],\n        \"semantic_type\": \"\",\n        \"description\": \"\"\n      }\n    },\n    {\n      \"column\": \"sex\",\n      \"properties\": {\n        \"dtype\": \"number\",\n        \"std\": 0,\n        \"min\": 0,\n        \"max\": 1,\n        \"num_unique_values\": 2,\n        \"samples\": [\n          1,\n          0\n        ],\n        \"semantic_type\": \"\",\n        \"description\": \"\"\n      }\n    },\n    {\n      \"column\": \"bmi\",\n      \"properties\": {\n        \"dtype\": \"number\",\n        \"std\": 4.4522275323707365,\n        \"min\": 22.705,\n        \"max\": 33.77,\n        \"num_unique_values\": 5,\n        \"samples\": [\n          33.77,\n          28.88\n        ],\n        \"semantic_type\": \"\",\n        \"description\": \"\"\n      }\n    },\n    {\n      \"column\": \"children\",\n      \"properties\": {\n        \"dtype\": \"number\",\n        \"std\": 1,\n        \"min\": 0,\n        \"max\": 3,\n        \"num_unique_values\": 3,\n        \"samples\": [\n          0,\n          1\n        ],\n        \"semantic_type\": \"\",\n        \"description\": \"\"\n      }\n    },\n    {\n      \"column\": \"smoker\",\n      \"properties\": {\n        \"dtype\": \"number\",\n        \"std\": 0,\n        \"min\": 0,\n        \"max\": 1,\n        \"num_unique_values\": 2,\n        \"samples\": [\n          0,\n          1\n        ],\n        \"semantic_type\": \"\",\n        \"description\": \"\"\n      }\n    },\n    {\n      \"column\": \"charges\",\n      \"properties\": {\n        \"dtype\": \"number\",\n        \"std\": 9051.009157648406,\n        \"min\": 1725.5523,\n        \"max\": 21984.47061,\n        \"num_unique_values\": 5,\n        \"samples\": [\n          1725.5523,\n          3866.8552\n        ],\n        \"semantic_type\": \"\",\n        \"description\": \"\"\n      }\n    },\n    {\n      \"column\": \"region_northwest\",\n      \"properties\": {\n        \"dtype\": \"boolean\",\n        \"num_unique_values\": 2,\n        \"samples\": [\n          true,\n          false\n        ],\n        \"semantic_type\": \"\",\n        \"description\": \"\"\n      }\n    },\n    {\n      \"column\": \"region_southeast\",\n      \"properties\": {\n        \"dtype\": \"boolean\",\n        \"num_unique_values\": 2,\n        \"samples\": [\n          true,\n          false\n        ],\n        \"semantic_type\": \"\",\n        \"description\": \"\"\n      }\n    },\n    {\n      \"column\": \"region_southwest\",\n      \"properties\": {\n        \"dtype\": \"boolean\",\n        \"num_unique_values\": 2,\n        \"samples\": [\n          false,\n          true\n        ],\n        \"semantic_type\": \"\",\n        \"description\": \"\"\n      }\n    }\n  ]\n}"
            }
          },
          "metadata": {}
        },
        {
          "output_type": "display_data",
          "data": {
            "text/plain": [
              "      age  sex    bmi  children  smoker     charges  region_northwest  \\\n",
              "1333   50    1  30.97         3       0  10600.5483              True   \n",
              "1334   18    0  31.92         0       0   2205.9808             False   \n",
              "1335   18    0  36.85         0       0   1629.8335             False   \n",
              "1336   21    0  25.80         0       0   2007.9450             False   \n",
              "1337   61    0  29.07         0       1  29141.3603              True   \n",
              "\n",
              "      region_southeast  region_southwest  \n",
              "1333             False             False  \n",
              "1334             False             False  \n",
              "1335              True             False  \n",
              "1336             False              True  \n",
              "1337             False             False  "
            ],
            "text/html": [
              "\n",
              "  <div id=\"df-d26b426e-751c-4eca-938a-67bd59ee880a\" class=\"colab-df-container\">\n",
              "    <div>\n",
              "<style scoped>\n",
              "    .dataframe tbody tr th:only-of-type {\n",
              "        vertical-align: middle;\n",
              "    }\n",
              "\n",
              "    .dataframe tbody tr th {\n",
              "        vertical-align: top;\n",
              "    }\n",
              "\n",
              "    .dataframe thead th {\n",
              "        text-align: right;\n",
              "    }\n",
              "</style>\n",
              "<table border=\"1\" class=\"dataframe\">\n",
              "  <thead>\n",
              "    <tr style=\"text-align: right;\">\n",
              "      <th></th>\n",
              "      <th>age</th>\n",
              "      <th>sex</th>\n",
              "      <th>bmi</th>\n",
              "      <th>children</th>\n",
              "      <th>smoker</th>\n",
              "      <th>charges</th>\n",
              "      <th>region_northwest</th>\n",
              "      <th>region_southeast</th>\n",
              "      <th>region_southwest</th>\n",
              "    </tr>\n",
              "  </thead>\n",
              "  <tbody>\n",
              "    <tr>\n",
              "      <th>1333</th>\n",
              "      <td>50</td>\n",
              "      <td>1</td>\n",
              "      <td>30.97</td>\n",
              "      <td>3</td>\n",
              "      <td>0</td>\n",
              "      <td>10600.5483</td>\n",
              "      <td>True</td>\n",
              "      <td>False</td>\n",
              "      <td>False</td>\n",
              "    </tr>\n",
              "    <tr>\n",
              "      <th>1334</th>\n",
              "      <td>18</td>\n",
              "      <td>0</td>\n",
              "      <td>31.92</td>\n",
              "      <td>0</td>\n",
              "      <td>0</td>\n",
              "      <td>2205.9808</td>\n",
              "      <td>False</td>\n",
              "      <td>False</td>\n",
              "      <td>False</td>\n",
              "    </tr>\n",
              "    <tr>\n",
              "      <th>1335</th>\n",
              "      <td>18</td>\n",
              "      <td>0</td>\n",
              "      <td>36.85</td>\n",
              "      <td>0</td>\n",
              "      <td>0</td>\n",
              "      <td>1629.8335</td>\n",
              "      <td>False</td>\n",
              "      <td>True</td>\n",
              "      <td>False</td>\n",
              "    </tr>\n",
              "    <tr>\n",
              "      <th>1336</th>\n",
              "      <td>21</td>\n",
              "      <td>0</td>\n",
              "      <td>25.80</td>\n",
              "      <td>0</td>\n",
              "      <td>0</td>\n",
              "      <td>2007.9450</td>\n",
              "      <td>False</td>\n",
              "      <td>False</td>\n",
              "      <td>True</td>\n",
              "    </tr>\n",
              "    <tr>\n",
              "      <th>1337</th>\n",
              "      <td>61</td>\n",
              "      <td>0</td>\n",
              "      <td>29.07</td>\n",
              "      <td>0</td>\n",
              "      <td>1</td>\n",
              "      <td>29141.3603</td>\n",
              "      <td>True</td>\n",
              "      <td>False</td>\n",
              "      <td>False</td>\n",
              "    </tr>\n",
              "  </tbody>\n",
              "</table>\n",
              "</div>\n",
              "    <div class=\"colab-df-buttons\">\n",
              "\n",
              "  <div class=\"colab-df-container\">\n",
              "    <button class=\"colab-df-convert\" onclick=\"convertToInteractive('df-d26b426e-751c-4eca-938a-67bd59ee880a')\"\n",
              "            title=\"Convert this dataframe to an interactive table.\"\n",
              "            style=\"display:none;\">\n",
              "\n",
              "  <svg xmlns=\"http://www.w3.org/2000/svg\" height=\"24px\" viewBox=\"0 -960 960 960\">\n",
              "    <path d=\"M120-120v-720h720v720H120Zm60-500h600v-160H180v160Zm220 220h160v-160H400v160Zm0 220h160v-160H400v160ZM180-400h160v-160H180v160Zm440 0h160v-160H620v160ZM180-180h160v-160H180v160Zm440 0h160v-160H620v160Z\"/>\n",
              "  </svg>\n",
              "    </button>\n",
              "\n",
              "  <style>\n",
              "    .colab-df-container {\n",
              "      display:flex;\n",
              "      gap: 12px;\n",
              "    }\n",
              "\n",
              "    .colab-df-convert {\n",
              "      background-color: #E8F0FE;\n",
              "      border: none;\n",
              "      border-radius: 50%;\n",
              "      cursor: pointer;\n",
              "      display: none;\n",
              "      fill: #1967D2;\n",
              "      height: 32px;\n",
              "      padding: 0 0 0 0;\n",
              "      width: 32px;\n",
              "    }\n",
              "\n",
              "    .colab-df-convert:hover {\n",
              "      background-color: #E2EBFA;\n",
              "      box-shadow: 0px 1px 2px rgba(60, 64, 67, 0.3), 0px 1px 3px 1px rgba(60, 64, 67, 0.15);\n",
              "      fill: #174EA6;\n",
              "    }\n",
              "\n",
              "    .colab-df-buttons div {\n",
              "      margin-bottom: 4px;\n",
              "    }\n",
              "\n",
              "    [theme=dark] .colab-df-convert {\n",
              "      background-color: #3B4455;\n",
              "      fill: #D2E3FC;\n",
              "    }\n",
              "\n",
              "    [theme=dark] .colab-df-convert:hover {\n",
              "      background-color: #434B5C;\n",
              "      box-shadow: 0px 1px 3px 1px rgba(0, 0, 0, 0.15);\n",
              "      filter: drop-shadow(0px 1px 2px rgba(0, 0, 0, 0.3));\n",
              "      fill: #FFFFFF;\n",
              "    }\n",
              "  </style>\n",
              "\n",
              "    <script>\n",
              "      const buttonEl =\n",
              "        document.querySelector('#df-d26b426e-751c-4eca-938a-67bd59ee880a button.colab-df-convert');\n",
              "      buttonEl.style.display =\n",
              "        google.colab.kernel.accessAllowed ? 'block' : 'none';\n",
              "\n",
              "      async function convertToInteractive(key) {\n",
              "        const element = document.querySelector('#df-d26b426e-751c-4eca-938a-67bd59ee880a');\n",
              "        const dataTable =\n",
              "          await google.colab.kernel.invokeFunction('convertToInteractive',\n",
              "                                                    [key], {});\n",
              "        if (!dataTable) return;\n",
              "\n",
              "        const docLinkHtml = 'Like what you see? Visit the ' +\n",
              "          '<a target=\"_blank\" href=https://colab.research.google.com/notebooks/data_table.ipynb>data table notebook</a>'\n",
              "          + ' to learn more about interactive tables.';\n",
              "        element.innerHTML = '';\n",
              "        dataTable['output_type'] = 'display_data';\n",
              "        await google.colab.output.renderOutput(dataTable, element);\n",
              "        const docLink = document.createElement('div');\n",
              "        docLink.innerHTML = docLinkHtml;\n",
              "        element.appendChild(docLink);\n",
              "      }\n",
              "    </script>\n",
              "  </div>\n",
              "\n",
              "\n",
              "<div id=\"df-09156b0e-f278-450f-8bfa-7c9dacea606b\">\n",
              "  <button class=\"colab-df-quickchart\" onclick=\"quickchart('df-09156b0e-f278-450f-8bfa-7c9dacea606b')\"\n",
              "            title=\"Suggest charts\"\n",
              "            style=\"display:none;\">\n",
              "\n",
              "<svg xmlns=\"http://www.w3.org/2000/svg\" height=\"24px\"viewBox=\"0 0 24 24\"\n",
              "     width=\"24px\">\n",
              "    <g>\n",
              "        <path d=\"M19 3H5c-1.1 0-2 .9-2 2v14c0 1.1.9 2 2 2h14c1.1 0 2-.9 2-2V5c0-1.1-.9-2-2-2zM9 17H7v-7h2v7zm4 0h-2V7h2v10zm4 0h-2v-4h2v4z\"/>\n",
              "    </g>\n",
              "</svg>\n",
              "  </button>\n",
              "\n",
              "<style>\n",
              "  .colab-df-quickchart {\n",
              "      --bg-color: #E8F0FE;\n",
              "      --fill-color: #1967D2;\n",
              "      --hover-bg-color: #E2EBFA;\n",
              "      --hover-fill-color: #174EA6;\n",
              "      --disabled-fill-color: #AAA;\n",
              "      --disabled-bg-color: #DDD;\n",
              "  }\n",
              "\n",
              "  [theme=dark] .colab-df-quickchart {\n",
              "      --bg-color: #3B4455;\n",
              "      --fill-color: #D2E3FC;\n",
              "      --hover-bg-color: #434B5C;\n",
              "      --hover-fill-color: #FFFFFF;\n",
              "      --disabled-bg-color: #3B4455;\n",
              "      --disabled-fill-color: #666;\n",
              "  }\n",
              "\n",
              "  .colab-df-quickchart {\n",
              "    background-color: var(--bg-color);\n",
              "    border: none;\n",
              "    border-radius: 50%;\n",
              "    cursor: pointer;\n",
              "    display: none;\n",
              "    fill: var(--fill-color);\n",
              "    height: 32px;\n",
              "    padding: 0;\n",
              "    width: 32px;\n",
              "  }\n",
              "\n",
              "  .colab-df-quickchart:hover {\n",
              "    background-color: var(--hover-bg-color);\n",
              "    box-shadow: 0 1px 2px rgba(60, 64, 67, 0.3), 0 1px 3px 1px rgba(60, 64, 67, 0.15);\n",
              "    fill: var(--button-hover-fill-color);\n",
              "  }\n",
              "\n",
              "  .colab-df-quickchart-complete:disabled,\n",
              "  .colab-df-quickchart-complete:disabled:hover {\n",
              "    background-color: var(--disabled-bg-color);\n",
              "    fill: var(--disabled-fill-color);\n",
              "    box-shadow: none;\n",
              "  }\n",
              "\n",
              "  .colab-df-spinner {\n",
              "    border: 2px solid var(--fill-color);\n",
              "    border-color: transparent;\n",
              "    border-bottom-color: var(--fill-color);\n",
              "    animation:\n",
              "      spin 1s steps(1) infinite;\n",
              "  }\n",
              "\n",
              "  @keyframes spin {\n",
              "    0% {\n",
              "      border-color: transparent;\n",
              "      border-bottom-color: var(--fill-color);\n",
              "      border-left-color: var(--fill-color);\n",
              "    }\n",
              "    20% {\n",
              "      border-color: transparent;\n",
              "      border-left-color: var(--fill-color);\n",
              "      border-top-color: var(--fill-color);\n",
              "    }\n",
              "    30% {\n",
              "      border-color: transparent;\n",
              "      border-left-color: var(--fill-color);\n",
              "      border-top-color: var(--fill-color);\n",
              "      border-right-color: var(--fill-color);\n",
              "    }\n",
              "    40% {\n",
              "      border-color: transparent;\n",
              "      border-right-color: var(--fill-color);\n",
              "      border-top-color: var(--fill-color);\n",
              "    }\n",
              "    60% {\n",
              "      border-color: transparent;\n",
              "      border-right-color: var(--fill-color);\n",
              "    }\n",
              "    80% {\n",
              "      border-color: transparent;\n",
              "      border-right-color: var(--fill-color);\n",
              "      border-bottom-color: var(--fill-color);\n",
              "    }\n",
              "    90% {\n",
              "      border-color: transparent;\n",
              "      border-bottom-color: var(--fill-color);\n",
              "    }\n",
              "  }\n",
              "</style>\n",
              "\n",
              "  <script>\n",
              "    async function quickchart(key) {\n",
              "      const quickchartButtonEl =\n",
              "        document.querySelector('#' + key + ' button');\n",
              "      quickchartButtonEl.disabled = true;  // To prevent multiple clicks.\n",
              "      quickchartButtonEl.classList.add('colab-df-spinner');\n",
              "      try {\n",
              "        const charts = await google.colab.kernel.invokeFunction(\n",
              "            'suggestCharts', [key], {});\n",
              "      } catch (error) {\n",
              "        console.error('Error during call to suggestCharts:', error);\n",
              "      }\n",
              "      quickchartButtonEl.classList.remove('colab-df-spinner');\n",
              "      quickchartButtonEl.classList.add('colab-df-quickchart-complete');\n",
              "    }\n",
              "    (() => {\n",
              "      let quickchartButtonEl =\n",
              "        document.querySelector('#df-09156b0e-f278-450f-8bfa-7c9dacea606b button');\n",
              "      quickchartButtonEl.style.display =\n",
              "        google.colab.kernel.accessAllowed ? 'block' : 'none';\n",
              "    })();\n",
              "  </script>\n",
              "</div>\n",
              "\n",
              "    </div>\n",
              "  </div>\n"
            ],
            "application/vnd.google.colaboratory.intrinsic+json": {
              "type": "dataframe",
              "summary": "{\n  \"name\": \"display(df\",\n  \"rows\": 5,\n  \"fields\": [\n    {\n      \"column\": \"age\",\n      \"properties\": {\n        \"dtype\": \"number\",\n        \"std\": 20,\n        \"min\": 18,\n        \"max\": 61,\n        \"num_unique_values\": 4,\n        \"samples\": [\n          18,\n          61,\n          50\n        ],\n        \"semantic_type\": \"\",\n        \"description\": \"\"\n      }\n    },\n    {\n      \"column\": \"sex\",\n      \"properties\": {\n        \"dtype\": \"number\",\n        \"std\": 0,\n        \"min\": 0,\n        \"max\": 1,\n        \"num_unique_values\": 2,\n        \"samples\": [\n          0,\n          1\n        ],\n        \"semantic_type\": \"\",\n        \"description\": \"\"\n      }\n    },\n    {\n      \"column\": \"bmi\",\n      \"properties\": {\n        \"dtype\": \"number\",\n        \"std\": 4.055991863897165,\n        \"min\": 25.8,\n        \"max\": 36.85,\n        \"num_unique_values\": 5,\n        \"samples\": [\n          31.92,\n          29.07\n        ],\n        \"semantic_type\": \"\",\n        \"description\": \"\"\n      }\n    },\n    {\n      \"column\": \"children\",\n      \"properties\": {\n        \"dtype\": \"number\",\n        \"std\": 1,\n        \"min\": 0,\n        \"max\": 3,\n        \"num_unique_values\": 2,\n        \"samples\": [\n          0,\n          3\n        ],\n        \"semantic_type\": \"\",\n        \"description\": \"\"\n      }\n    },\n    {\n      \"column\": \"smoker\",\n      \"properties\": {\n        \"dtype\": \"number\",\n        \"std\": 0,\n        \"min\": 0,\n        \"max\": 1,\n        \"num_unique_values\": 2,\n        \"samples\": [\n          1,\n          0\n        ],\n        \"semantic_type\": \"\",\n        \"description\": \"\"\n      }\n    },\n    {\n      \"column\": \"charges\",\n      \"properties\": {\n        \"dtype\": \"number\",\n        \"std\": 11806.083521514944,\n        \"min\": 1629.8335,\n        \"max\": 29141.3603,\n        \"num_unique_values\": 5,\n        \"samples\": [\n          2205.9808,\n          29141.3603\n        ],\n        \"semantic_type\": \"\",\n        \"description\": \"\"\n      }\n    },\n    {\n      \"column\": \"region_northwest\",\n      \"properties\": {\n        \"dtype\": \"boolean\",\n        \"num_unique_values\": 2,\n        \"samples\": [\n          false,\n          true\n        ],\n        \"semantic_type\": \"\",\n        \"description\": \"\"\n      }\n    },\n    {\n      \"column\": \"region_southeast\",\n      \"properties\": {\n        \"dtype\": \"boolean\",\n        \"num_unique_values\": 2,\n        \"samples\": [\n          true,\n          false\n        ],\n        \"semantic_type\": \"\",\n        \"description\": \"\"\n      }\n    },\n    {\n      \"column\": \"region_southwest\",\n      \"properties\": {\n        \"dtype\": \"boolean\",\n        \"num_unique_values\": 2,\n        \"samples\": [\n          true,\n          false\n        ],\n        \"semantic_type\": \"\",\n        \"description\": \"\"\n      }\n    }\n  ]\n}"
            }
          },
          "metadata": {}
        }
      ]
    },
    {
      "cell_type": "code",
      "source": [
        "#Assign the variable for independent and dependent variable to perfrom the regression\n",
        "X_total = Insurance_Charge.drop(columns=\"charges\")\n",
        "y_total = Insurance_Charge[[\"sex\", \"smoker\",\"children\",\"charges\"]]"
      ],
      "metadata": {
        "id": "ePaMkS9QaHw6"
      },
      "execution_count": 103,
      "outputs": []
    },
    {
      "cell_type": "code",
      "source": [
        "#Divide the whole dataset into train data and test data by allocation 80% and 20% respectively\n",
        "X_train, X_test, y_train, y_test = train_test_split(X_total, y_total, test_size=0.2, random_state=42)"
      ],
      "metadata": {
        "id": "jXE761uwaZkP"
      },
      "execution_count": 104,
      "outputs": []
    },
    {
      "cell_type": "code",
      "source": [
        "#bifurcate data into eight segments for train and test data\n",
        "X_train_male_smoke_yes_children_yes = X_train[(X_train['sex'] == 'male') & (X_train['smoker']=='yes') & (X_train['children'] > 0)]\n",
        "X_train_male_smoke_yes_children_no = X_train[(X_train['sex'] == 'male') & (X_train['smoker']=='yes') & (X_train['children'] == 0)]\n",
        "X_train_male_smoke_no_children_yes = X_train[(X_train['sex'] == 'male') & (X_train['smoker']=='no') & (X_train['children'] > 0)]\n",
        "X_train_male_smoke_no_children_no = X_train[(X_train['sex'] == 'male') & (X_train['smoker']=='no') & (X_train['children'] == 0)]\n",
        "X_train_female_smoke_yes_children_yes = X_train[(X_train['sex'] == 'female') & (X_train['smoker']=='yes') & (X_train['children'] > 0)]\n",
        "X_train_female_smoke_yes_children_no = X_train[(X_train['sex'] == 'female') & (X_train['smoker']=='yes') & (X_train['children'] == 0)]\n",
        "X_train_female_smoke_no_children_yes = X_train[(X_train['sex'] == 'female') & (X_train['smoker']=='no') & (X_train['children'] > 0)]\n",
        "X_train_female_smoke_no_children_no = X_train[(X_train['sex'] == 'female') & (X_train['smoker']=='no') & (X_train['children'] == 0)]\n",
        "\n",
        "y_train_male_smoke_yes_children_yes = y_train[(y_train['sex'] == 'male') & (y_train['smoker']=='yes') & (y_train['children'] > 0)]\n",
        "y_train_male_smoke_yes_children_no = y_train[(y_train['sex'] == 'male') & (y_train['smoker']=='yes') & (y_train['children'] == 0)]\n",
        "y_train_male_smoke_no_children_yes = y_train[(y_train['sex'] == 'male') & (y_train['smoker']=='no') & (y_train['children'] > 0)]\n",
        "y_train_male_smoke_no_children_no = y_train[(y_train['sex'] == 'male') & (y_train['smoker']=='no') & (y_train['children'] == 0)]\n",
        "y_train_female_smoke_yes_children_yes = y_train[(y_train['sex'] == 'female') & (y_train['smoker']=='yes') & (y_train['children'] > 0)]\n",
        "y_train_female_smoke_yes_children_no = y_train[(y_train['sex'] == 'female') & (y_train['smoker']=='yes') & (y_train['children'] == 0)]\n",
        "y_train_female_smoke_no_children_yes = y_train[(y_train['sex'] == 'female') & (y_train['smoker']=='no') & (y_train['children'] > 0)]\n",
        "y_train_female_smoke_no_children_no = y_train[(y_train['sex'] == 'female') & (y_train['smoker']=='no') & (y_train['children'] == 0)]\n"
      ],
      "metadata": {
        "id": "fMQFOlONalsZ"
      },
      "execution_count": 105,
      "outputs": []
    },
    {
      "cell_type": "code",
      "source": [
        "#drop the sex, smoker, children from all eight dataset\n",
        "X_train_male_smoke_yes_children_yes = X_train_male_smoke_yes_children_yes.drop(columns=['sex','smoker','children'])\n",
        "X_train_male_smoke_yes_children_no = X_train_male_smoke_yes_children_no.drop(columns=['sex','smoker','children'])\n",
        "X_train_male_smoke_no_children_yes = X_train_male_smoke_no_children_yes.drop(columns=['sex','smoker','children'])\n",
        "X_train_male_smoke_no_children_no = X_train_male_smoke_no_children_no.drop(columns=['sex','smoker','children'])\n",
        "X_train_female_smoke_yes_children_yes = X_train_female_smoke_yes_children_yes.drop(columns=['sex','smoker','children'])\n",
        "X_train_female_smoke_yes_children_no = X_train_female_smoke_yes_children_no.drop(columns=['sex','smoker','children'])\n",
        "X_train_female_smoke_no_children_yes = X_train_female_smoke_no_children_yes.drop(columns=['sex','smoker','children'])\n",
        "X_train_female_smoke_no_children_no = X_train_female_smoke_no_children_no.drop(columns=['sex','smoker','children'])\n",
        "\n",
        "y_train_male_smoke_yes_children_yes = y_train_male_smoke_yes_children_yes.drop(columns=['sex','smoker','children'])\n",
        "y_train_male_smoke_yes_children_no = y_train_male_smoke_yes_children_no.drop(columns=['sex','smoker','children'])\n",
        "y_train_male_smoke_no_children_yes = y_train_male_smoke_no_children_yes.drop(columns=['sex','smoker','children'])\n",
        "y_train_male_smoke_no_children_no = y_train_male_smoke_no_children_no.drop(columns=['sex','smoker','children'])\n",
        "y_train_female_smoke_yes_children_yes = y_train_female_smoke_yes_children_yes.drop(columns=['sex','smoker','children'])\n",
        "y_train_female_smoke_yes_children_no = y_train_female_smoke_yes_children_no.drop(columns=['sex','smoker','children'])\n",
        "y_train_female_smoke_no_children_yes = y_train_female_smoke_no_children_yes.drop(columns=['sex','smoker','children'])\n",
        "y_train_female_smoke_no_children_no = y_train_female_smoke_no_children_no.drop(columns=['sex','smoker','children'])"
      ],
      "metadata": {
        "id": "6Vwr8TcvarxP"
      },
      "execution_count": 106,
      "outputs": []
    },
    {
      "cell_type": "code",
      "source": [
        "#Assigning the target variable for train and test data\n",
        "y_train = y_train['charges']\n",
        "y_test = y_test['charges']"
      ],
      "metadata": {
        "id": "VmNuKEZ_auDv"
      },
      "execution_count": 107,
      "outputs": []
    },
    {
      "cell_type": "code",
      "source": [
        "import warnings\n",
        "\n",
        "# Ignore specific warnings\n",
        "warnings.simplefilter(action='ignore', category=UserWarning)"
      ],
      "metadata": {
        "id": "0wPAs2MyayP4"
      },
      "execution_count": 111,
      "outputs": []
    },
    {
      "cell_type": "code",
      "source": [
        "X_train, X_test, y_train, y_test = train_test_split(X_total, y_total, test_size=0.2, random_state=42)\n",
        "\n",
        "# Bifurcate data into eight segments for train and test data\n",
        "X_train_male_smoke_yes_children_yes = X_train[(X_train['sex'] == 'male') & (X_train['smoker'] == 'yes') & (X_train['children'] > 0)]\n",
        "X_train_male_smoke_yes_children_no = X_train[(X_train['sex'] == 'male') & (X_train['smoker'] == 'yes') & (X_train['children'] == 0)]\n",
        "X_train_male_smoke_no_children_yes = X_train[(X_train['sex'] == 'male') & (X_train['smoker'] == 'no') & (X_train['children'] > 0)]\n",
        "X_train_male_smoke_no_children_no = X_train[(X_train['sex'] == 'male') & (X_train['smoker'] == 'no') & (X_train['children'] == 0)]\n",
        "X_train_female_smoke_yes_children_yes = X_train[(X_train['sex'] == 'female') & (X_train['smoker'] == 'yes') & (X_train['children'] > 0)]\n",
        "X_train_female_smoke_yes_children_no = X_train[(X_train['sex'] == 'female') & (X_train['smoker'] == 'yes') & (X_train['children'] == 0)]\n",
        "X_train_female_smoke_no_children_yes = X_train[(X_train['sex'] == 'female') & (X_train['smoker'] == 'no') & (X_train['children'] > 0)]\n",
        "X_train_female_smoke_no_children_no = X_train[(X_train['sex'] == 'female') & (X_train['smoker'] == 'no') & (X_train['children'] == 0)]\n",
        "\n",
        "y_train_male_smoke_yes_children_yes = y_train[(X_train['sex'] == 'male') & (X_train['smoker'] == 'yes') & (X_train['children'] > 0)]\n",
        "y_train_male_smoke_yes_children_no = y_train[(X_train['sex'] == 'male') & (X_train['smoker'] == 'yes') & (X_train['children'] == 0)]\n",
        "y_train_male_smoke_no_children_yes = y_train[(X_train['sex'] == 'male') & (X_train['smoker'] == 'no') & (X_train['children'] > 0)]\n",
        "y_train_male_smoke_no_children_no = y_train[(X_train['sex'] == 'male') & (X_train['smoker'] == 'no') & (X_train['children'] == 0)]\n",
        "y_train_female_smoke_yes_children_yes = y_train[(X_train['sex'] == 'female') & (X_train['smoker'] == 'yes') & (X_train['children'] > 0)]\n",
        "y_train_female_smoke_yes_children_no = y_train[(X_train['sex'] == 'female') & (X_train['smoker'] == 'yes') & (X_train['children'] == 0)]\n",
        "y_train_female_smoke_no_children_yes = y_train[(X_train['sex'] == 'female') & (X_train['smoker'] == 'no') & (X_train['children'] > 0)]\n",
        "y_train_female_smoke_no_children_no = y_train[(X_train['sex'] == 'female') & (X_train['smoker'] == 'no') & (X_train['children'] == 0)]"
      ],
      "metadata": {
        "id": "anhCifcVbjyu"
      },
      "execution_count": 114,
      "outputs": []
    },
    {
      "cell_type": "code",
      "source": [
        "data = pd.read_csv('/content/processed_data.csv') # Load your data into the 'data' variable\n",
        "\n",
        "# Define your target variable and features\n",
        "X_total = data[['age', 'sex', 'bmi', 'children', 'smoker', 'region']]\n",
        "y_total = data[['charges', 'sex', 'smoker', 'children']]\n",
        "\n",
        "# One-hot encoding for categorical features\n",
        "X_total = pd.get_dummies(X_total, columns=['sex', 'smoker', 'region'], drop_first=True)\n",
        "\n",
        "# Split the data into training and testing sets\n",
        "X_train, X_test, y_train, y_test = train_test_split(X_total, y_total, test_size=0.2, random_state=42)\n",
        "\n",
        "# Define your target variable and features\n",
        "X_total = data[['age', 'sex', 'bmi', 'children', 'smoker', 'region']]\n",
        "y_total = data[['charges', 'sex', 'smoker', 'children']]\n",
        "\n",
        "# One-hot encoding for categorical features\n",
        "X_total = pd.get_dummies(X_total, columns=['sex', 'smoker', 'region'], drop_first=True)\n",
        "\n",
        "\n",
        "# Split the data into training and testing sets\n",
        "X_train, X_test, y_train, y_test = train_test_split(X_total, y_total, test_size=0.2, random_state=42)\n",
        "\n",
        "# Bifurcate data into eight segments for train data\n",
        "X_train_male_smoke_yes_children_yes = X_train[(X_train['sex_male'] == 1) & (X_train['smoker_yes'] == 1) & (X_train['children'] > 0)]\n",
        "X_train_male_smoke_yes_children_no = X_train[(X_train['sex_male'] == 1) & (X_train['smoker_yes'] == 1) & (X_train['children'] == 0)]\n",
        "X_train_male_smoke_no_children_yes = X_train[(X_train['sex_male'] == 1) & (X_train['smoker_yes'] == 0) & (X_train['children'] > 0)]\n",
        "X_train_male_smoke_no_children_no = X_train[(X_train['sex_male'] == 1) & (X_train['smoker_yes'] == 0) & (X_train['children'] == 0)]\n",
        "X_train_female_smoke_yes_children_yes = X_train[(X_train['sex_male'] == 0) & (X_train['smoker_yes'] == 1) & (X_train['children'] > 0)]\n",
        "X_train_female_smoke_yes_children_no = X_train[(X_train['sex_male'] == 0) & (X_train['smoker_yes'] == 1) & (X_train['children'] == 0)]\n",
        "X_train_female_smoke_no_children_yes = X_train[(X_train['sex_male'] == 0) & (X_train['smoker_yes'] == 0) & (X_train['children'] > 0)]\n",
        "X_train_female_smoke_no_children_no = X_train[(X_train['sex_male'] == 0) & (X_train['smoker_yes'] == 0) & (X_train['children'] == 0)]\n",
        "\n",
        "# Bifurcate data into eight segments for target train data\n",
        "y_train_male_smoke_yes_children_yes = y_train[(X_train['sex_male'] == 1) & (X_train['smoker_yes'] == 1) & (X_train['children'] > 0)]['charges']\n",
        "y_train_male_smoke_yes_children_no = y_train[(X_train['sex_male'] == 1) & (X_train['smoker_yes'] == 1) & (X_train['children'] == 0)]['charges']\n",
        "y_train_male_smoke_no_children_yes = y_train[(X_train['sex_male'] == 1) & (X_train['smoker_yes'] == 0) & (X_train['children'] > 0)]['charges']\n",
        "y_train_male_smoke_no_children_no = y_train[(X_train['sex_male'] == 1) & (X_train['smoker_yes'] == 0) & (X_train['children'] == 0)]['charges']\n",
        "y_train_female_smoke_yes_children_yes = y_train[(X_train['sex_male'] == 0) & (X_train['smoker_yes'] == 1)]['charges']"
      ],
      "metadata": {
        "id": "DqM4_NoVblki"
      },
      "execution_count": 119,
      "outputs": []
    },
    {
      "cell_type": "code",
      "source": [
        "#evaluation matrix\n",
        "def evaluation_function(y,yhat):\n",
        "  ei = y - yhat\n",
        "\n",
        "  ei2 = ei**2\n",
        "\n",
        "  MSE = ei2.mean()\n",
        "  RMSE = MSE**0.5\n",
        "\n",
        "  ei_abs = ei.abs()\n",
        "  MAE = ei_abs.mean()\n",
        "\n",
        "  SSE = ei2.sum()\n",
        "  SST =((y-y.mean())**2).sum()\n",
        "  R2 = 1-(SSE/SST)\n",
        "\n",
        "  print(\"MSE is\", MSE)\n",
        "  print(\"RMSE is\", RMSE)\n",
        "  print(\"MAE is\", MAE)\n",
        "  print(\"R2 is\", R2)"
      ],
      "metadata": {
        "id": "7yDvWgJtcOQ4"
      },
      "execution_count": 120,
      "outputs": []
    },
    {
      "cell_type": "code",
      "source": [
        "# Evaluation for the testing data\n",
        "model = LinearRegression()\n",
        "model.fit(X_train, y_train['charges']) # Fit the model to your training data\n",
        "\n",
        "# Generate predictions\n",
        "y_train_hat = model.predict(X_train) # Predict on training data\n",
        "y_test_hat = model.predict(X_test)   # Predict on testing data\n",
        "\n",
        "# Evaluation for the testing data\n",
        "print(\"Evaluation for the testing data:\")\n",
        "evaluation_function(y_test['charges'], y_test_hat) # Pass the 'charges' column\n",
        "\n",
        "print(\"Evaluation for the training data:\")\n",
        "evaluation_function(y_train['charges'], y_train_hat)"
      ],
      "metadata": {
        "colab": {
          "base_uri": "https://localhost:8080/"
        },
        "id": "2FgeRU--fDs4",
        "outputId": "19c7b884-4f48-458f-febc-10aaf02b9352"
      },
      "execution_count": 122,
      "outputs": [
        {
          "output_type": "stream",
          "name": "stdout",
          "text": [
            "Evaluation for the testing data:\n",
            "MSE is 23437328.291634917\n",
            "RMSE is 4841.211448763101\n",
            "MAE is 3316.7325303695948\n",
            "R2 is 0.7841002156994549\n",
            "Evaluation for the training data:\n",
            "MSE is 26683797.194471046\n",
            "RMSE is 5165.63618487317\n",
            "MAE is 3394.809080052844\n",
            "R2 is 0.7376387881253278\n"
          ]
        }
      ]
    },
    {
      "cell_type": "code",
      "source": [],
      "metadata": {
        "id": "sogHizXffFJn"
      },
      "execution_count": null,
      "outputs": []
    }
  ]
}
